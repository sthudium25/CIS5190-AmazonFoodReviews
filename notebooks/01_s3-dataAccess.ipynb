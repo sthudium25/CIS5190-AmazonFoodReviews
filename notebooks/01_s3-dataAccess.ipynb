{
 "cells": [
  {
   "cell_type": "markdown",
   "id": "dd69e969-d24f-43dc-9eb0-c5be004e53b8",
   "metadata": {},
   "source": [
    "Test notebook to practice reading s3 files to SageMaker. The role returned by get_execution_role() needs to be added to the s3 Bucket policy within the Principal Key as \"AWS\":\"arn:aws:iam::144273247162:role/SageMakerExecutionRole\"\n",
    "\n",
    "Currently the bucket is also allowing public access, so I'm not sure if this will work if the data is made private. However, I ran into an error when trying to access the public bucket without adding this role to the Policy."
   ]
  },
  {
   "cell_type": "markdown",
   "id": "f1db4d26-e881-4eca-a99e-b157d66e1f6c",
   "metadata": {
    "tags": []
   },
   "source": [
    "## Imports"
   ]
  },
  {
   "cell_type": "code",
   "execution_count": 1,
   "id": "0c9a53f3-4c9e-4552-9d58-70f0ed873e94",
   "metadata": {
    "tags": []
   },
   "outputs": [],
   "source": [
    "import os\n",
    "import numpy as np\n",
    "import pandas as pd\n",
    "from matplotlib import pyplot as plt\n",
    "import boto3\n",
    "import sagemaker\n",
    "from sagemaker import get_execution_role\n",
    "import tempfile\n",
    "import io"
   ]
  },
  {
   "cell_type": "code",
   "execution_count": 2,
   "id": "091fc47d-828d-495c-a1ab-66c34e4d461a",
   "metadata": {
    "tags": []
   },
   "outputs": [
    {
     "name": "stdout",
     "output_type": "stream",
     "text": [
      "arn:aws:iam::144273247162:role/SageMakerExecutionRole\n"
     ]
    }
   ],
   "source": [
    "role = get_execution_role()\n",
    "print(role)\n",
    "\n",
    "region = boto3.Session().region_name\n",
    "sess = sagemaker.Session()"
   ]
  },
  {
   "cell_type": "code",
   "execution_count": 3,
   "id": "8beeae96-e8cd-4149-8a40-4582b393b8cf",
   "metadata": {
    "tags": []
   },
   "outputs": [],
   "source": [
    "bucket = 'cis5190-foodreviews'\n",
    "file_path = 'Reviews_cleanText_noSW.csv'\n",
    "\n",
    "s3_client = boto3.client('s3')\n",
    "contents = s3_client.list_objects(Bucket=bucket)['Contents']"
   ]
  },
  {
   "cell_type": "code",
   "execution_count": 4,
   "id": "e3f664ed-100e-4dec-8d14-dec103759949",
   "metadata": {
    "tags": []
   },
   "outputs": [
    {
     "name": "stdout",
     "output_type": "stream",
     "text": [
      "Reviews_cleanText_noSW.csv\n",
      "Reviews_cleanText_sw.csv\n"
     ]
    }
   ],
   "source": [
    "for f in contents:\n",
    "    print(f['Key'])"
   ]
  },
  {
   "cell_type": "code",
   "execution_count": 5,
   "id": "b731f2f7-9e8e-489a-84fb-24de58235b95",
   "metadata": {
    "tags": []
   },
   "outputs": [
    {
     "data": {
      "text/html": [
       "<div>\n",
       "<style scoped>\n",
       "    .dataframe tbody tr th:only-of-type {\n",
       "        vertical-align: middle;\n",
       "    }\n",
       "\n",
       "    .dataframe tbody tr th {\n",
       "        vertical-align: top;\n",
       "    }\n",
       "\n",
       "    .dataframe thead th {\n",
       "        text-align: right;\n",
       "    }\n",
       "</style>\n",
       "<table border=\"1\" class=\"dataframe\">\n",
       "  <thead>\n",
       "    <tr style=\"text-align: right;\">\n",
       "      <th></th>\n",
       "      <th>Text</th>\n",
       "      <th>Summary</th>\n",
       "      <th>Score</th>\n",
       "      <th>cleaned_text</th>\n",
       "      <th>cleaned_summary</th>\n",
       "      <th>Score_class</th>\n",
       "    </tr>\n",
       "  </thead>\n",
       "  <tbody>\n",
       "    <tr>\n",
       "      <th>0</th>\n",
       "      <td>I have bought several of the Vitality canned d...</td>\n",
       "      <td>Good Quality Dog Food</td>\n",
       "      <td>5</td>\n",
       "      <td>buy several vitality can dog food products fin...</td>\n",
       "      <td>good quality dog food</td>\n",
       "      <td>1</td>\n",
       "    </tr>\n",
       "    <tr>\n",
       "      <th>1</th>\n",
       "      <td>Product arrived labeled as Jumbo Salted Peanut...</td>\n",
       "      <td>Not as Advertised</td>\n",
       "      <td>1</td>\n",
       "      <td>product arrive label jumbo salt peanutsthe pea...</td>\n",
       "      <td>advertise</td>\n",
       "      <td>-1</td>\n",
       "    </tr>\n",
       "    <tr>\n",
       "      <th>2</th>\n",
       "      <td>This is a confection that has been around a fe...</td>\n",
       "      <td>\"Delight\" says it all</td>\n",
       "      <td>4</td>\n",
       "      <td>confection around centuries light pillowy citr...</td>\n",
       "      <td>delight say</td>\n",
       "      <td>1</td>\n",
       "    </tr>\n",
       "    <tr>\n",
       "      <th>3</th>\n",
       "      <td>If you are looking for the secret ingredient i...</td>\n",
       "      <td>Cough Medicine</td>\n",
       "      <td>2</td>\n",
       "      <td>look secret ingredient robitussin believe find...</td>\n",
       "      <td>cough medicine</td>\n",
       "      <td>-1</td>\n",
       "    </tr>\n",
       "    <tr>\n",
       "      <th>4</th>\n",
       "      <td>Great taffy at a great price.  There was a wid...</td>\n",
       "      <td>Great taffy</td>\n",
       "      <td>5</td>\n",
       "      <td>great taffy great price wide assortment yummy ...</td>\n",
       "      <td>great taffy</td>\n",
       "      <td>1</td>\n",
       "    </tr>\n",
       "  </tbody>\n",
       "</table>\n",
       "</div>"
      ],
      "text/plain": [
       "                                                Text                Summary  \\\n",
       "0  I have bought several of the Vitality canned d...  Good Quality Dog Food   \n",
       "1  Product arrived labeled as Jumbo Salted Peanut...      Not as Advertised   \n",
       "2  This is a confection that has been around a fe...  \"Delight\" says it all   \n",
       "3  If you are looking for the secret ingredient i...         Cough Medicine   \n",
       "4  Great taffy at a great price.  There was a wid...            Great taffy   \n",
       "\n",
       "   Score                                       cleaned_text  \\\n",
       "0      5  buy several vitality can dog food products fin...   \n",
       "1      1  product arrive label jumbo salt peanutsthe pea...   \n",
       "2      4  confection around centuries light pillowy citr...   \n",
       "3      2  look secret ingredient robitussin believe find...   \n",
       "4      5  great taffy great price wide assortment yummy ...   \n",
       "\n",
       "         cleaned_summary  Score_class  \n",
       "0  good quality dog food            1  \n",
       "1              advertise           -1  \n",
       "2            delight say            1  \n",
       "3         cough medicine           -1  \n",
       "4            great taffy            1  "
      ]
     },
     "execution_count": 5,
     "metadata": {},
     "output_type": "execute_result"
    }
   ],
   "source": [
    "obj = s3_client.get_object(Bucket=bucket, Key=file_path)\n",
    "\n",
    "df = pd.read_csv(io.BytesIO(obj['Body'].read()))\n",
    "df.head()"
   ]
  },
  {
   "cell_type": "code",
   "execution_count": 6,
   "id": "e72b244a-6722-46b4-b2e8-18fb8b120f12",
   "metadata": {
    "tags": []
   },
   "outputs": [],
   "source": [
    "df.to_csv('Reviews_cleanText_noSW_sageMakerLocal.csv')"
   ]
  },
  {
   "cell_type": "code",
   "execution_count": null,
   "id": "ce032180-c566-4d06-aba4-21b65f388efc",
   "metadata": {},
   "outputs": [],
   "source": []
  }
 ],
 "metadata": {
  "kernelspec": {
   "display_name": "conda_pytorch_p39",
   "language": "python",
   "name": "conda_pytorch_p39"
  },
  "language_info": {
   "codemirror_mode": {
    "name": "ipython",
    "version": 3
   },
   "file_extension": ".py",
   "mimetype": "text/x-python",
   "name": "python",
   "nbconvert_exporter": "python",
   "pygments_lexer": "ipython3",
   "version": "3.9.15"
  },
  "toc-autonumbering": true
 },
 "nbformat": 4,
 "nbformat_minor": 5
}
