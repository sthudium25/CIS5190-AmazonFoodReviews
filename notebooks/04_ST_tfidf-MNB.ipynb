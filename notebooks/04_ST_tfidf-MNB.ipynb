{
 "cells": [
  {
   "cell_type": "code",
   "execution_count": 1,
   "id": "45c23843-8155-45b6-8b32-23a34e035f43",
   "metadata": {
    "tags": []
   },
   "outputs": [
    {
     "name": "stdout",
     "output_type": "stream",
     "text": [
      "Looking in indexes: https://pypi.org/simple, https://pip.repos.neuron.amazonaws.com\n",
      "Requirement already satisfied: wordcloud in /home/ec2-user/anaconda3/envs/pytorch_p39/lib/python3.9/site-packages (1.8.2.2)\n",
      "Requirement already satisfied: numpy>=1.6.1 in /home/ec2-user/anaconda3/envs/pytorch_p39/lib/python3.9/site-packages (from wordcloud) (1.23.5)\n",
      "Requirement already satisfied: pillow in /home/ec2-user/anaconda3/envs/pytorch_p39/lib/python3.9/site-packages (from wordcloud) (9.2.0)\n",
      "Requirement already satisfied: matplotlib in /home/ec2-user/anaconda3/envs/pytorch_p39/lib/python3.9/site-packages (from wordcloud) (3.5.3)\n",
      "Requirement already satisfied: kiwisolver>=1.0.1 in /home/ec2-user/anaconda3/envs/pytorch_p39/lib/python3.9/site-packages (from matplotlib->wordcloud) (1.4.4)\n",
      "Requirement already satisfied: pyparsing>=2.2.1 in /home/ec2-user/anaconda3/envs/pytorch_p39/lib/python3.9/site-packages (from matplotlib->wordcloud) (3.0.9)\n",
      "Requirement already satisfied: cycler>=0.10 in /home/ec2-user/anaconda3/envs/pytorch_p39/lib/python3.9/site-packages (from matplotlib->wordcloud) (0.11.0)\n",
      "Requirement already satisfied: python-dateutil>=2.7 in /home/ec2-user/anaconda3/envs/pytorch_p39/lib/python3.9/site-packages (from matplotlib->wordcloud) (2.8.2)\n",
      "Requirement already satisfied: packaging>=20.0 in /home/ec2-user/anaconda3/envs/pytorch_p39/lib/python3.9/site-packages (from matplotlib->wordcloud) (21.3)\n",
      "Requirement already satisfied: fonttools>=4.22.0 in /home/ec2-user/anaconda3/envs/pytorch_p39/lib/python3.9/site-packages (from matplotlib->wordcloud) (4.38.0)\n",
      "Requirement already satisfied: six>=1.5 in /home/ec2-user/anaconda3/envs/pytorch_p39/lib/python3.9/site-packages (from python-dateutil>=2.7->matplotlib->wordcloud) (1.16.0)\n",
      "Looking in indexes: https://pypi.org/simple, https://pip.repos.neuron.amazonaws.com\n",
      "Requirement already satisfied: imblearn in /home/ec2-user/anaconda3/envs/pytorch_p39/lib/python3.9/site-packages (0.0)\n",
      "Requirement already satisfied: imbalanced-learn in /home/ec2-user/anaconda3/envs/pytorch_p39/lib/python3.9/site-packages (from imblearn) (0.10.1)\n",
      "Requirement already satisfied: joblib>=1.1.1 in /home/ec2-user/anaconda3/envs/pytorch_p39/lib/python3.9/site-packages (from imbalanced-learn->imblearn) (1.2.0)\n",
      "Requirement already satisfied: numpy>=1.17.3 in /home/ec2-user/anaconda3/envs/pytorch_p39/lib/python3.9/site-packages (from imbalanced-learn->imblearn) (1.23.5)\n",
      "Requirement already satisfied: scikit-learn>=1.0.2 in /home/ec2-user/anaconda3/envs/pytorch_p39/lib/python3.9/site-packages (from imbalanced-learn->imblearn) (1.2.2)\n",
      "Requirement already satisfied: scipy>=1.3.2 in /home/ec2-user/anaconda3/envs/pytorch_p39/lib/python3.9/site-packages (from imbalanced-learn->imblearn) (1.8.1)\n",
      "Requirement already satisfied: threadpoolctl>=2.0.0 in /home/ec2-user/anaconda3/envs/pytorch_p39/lib/python3.9/site-packages (from imbalanced-learn->imblearn) (3.1.0)\n"
     ]
    }
   ],
   "source": [
    "!pip install wordcloud\n",
    "!pip install imblearn"
   ]
  },
  {
   "cell_type": "code",
   "execution_count": 55,
   "id": "18b995ee-0462-477f-86e5-fc6610529e3d",
   "metadata": {
    "tags": []
   },
   "outputs": [
    {
     "name": "stderr",
     "output_type": "stream",
     "text": [
      "[nltk_data] Downloading package punkt to /home/ec2-user/nltk_data...\n",
      "[nltk_data]   Package punkt is already up-to-date!\n",
      "[nltk_data] Downloading package stopwords to\n",
      "[nltk_data]     /home/ec2-user/nltk_data...\n",
      "[nltk_data]   Package stopwords is already up-to-date!\n",
      "[nltk_data] Downloading package wordnet to /home/ec2-user/nltk_data...\n",
      "[nltk_data]   Package wordnet is already up-to-date!\n",
      "[nltk_data] Downloading package omw-1.4 to /home/ec2-user/nltk_data...\n",
      "[nltk_data]   Package omw-1.4 is already up-to-date!\n",
      "[nltk_data] Downloading package vader_lexicon to\n",
      "[nltk_data]     /home/ec2-user/nltk_data...\n",
      "[nltk_data]   Package vader_lexicon is already up-to-date!\n"
     ]
    }
   ],
   "source": [
    "# Imports required libraries\n",
    "\n",
    "# for data wrangling\n",
    "import numpy as np\n",
    "import pandas as pd\n",
    "import re, datetime\n",
    "import string\n",
    "\n",
    "# for NLP / sentiment analysis\n",
    "import nltk\n",
    "from nltk.sentiment.vader import SentimentIntensityAnalyzer\n",
    "from nltk.corpus import stopwords\n",
    "from nltk.stem import WordNetLemmatizer\n",
    "nltk.download('punkt')\n",
    "nltk.download('stopwords')\n",
    "nltk.download('wordnet')\n",
    "nltk.download('omw-1.4')\n",
    "nltk.download('vader_lexicon')\n",
    "\n",
    "# for visualization\n",
    "import seaborn as sns\n",
    "import matplotlib.pyplot as plt\n",
    "from collections import Counter\n",
    "from wordcloud import WordCloud\n",
    "\n",
    "# for model building\n",
    "from sklearn.model_selection import train_test_split\n",
    "from sklearn.preprocessing import MinMaxScaler\n",
    "from sklearn.preprocessing import StandardScaler\n",
    "from sklearn.linear_model import LinearRegression\n",
    "from sklearn.linear_model import LogisticRegression\n",
    "from sklearn.linear_model import Ridge\n",
    "from imblearn.under_sampling import RandomUnderSampler\n",
    "from imblearn.over_sampling import RandomOverSampler\n",
    "from sklearn.feature_extraction.text import CountVectorizer, TfidfTransformer\n",
    "from sklearn.feature_extraction.text import TfidfVectorizer\n",
    "from sklearn import metrics\n",
    "from sklearn.metrics import accuracy_score, mean_absolute_error, mean_squared_error, r2_score\n",
    "from sklearn.metrics import confusion_matrix\n",
    "from sklearn.metrics import make_scorer\n",
    "from sklearn.model_selection import GridSearchCV\n",
    "from sklearn.naive_bayes import MultinomialNB\n",
    "\n",
    "# for exporting cleaned data\n",
    "import os\n",
    "from os.path import join\n",
    "from joblib import dump, load\n",
    "\n",
    "# for local helper funtions\n",
    "import helper_module\n",
    "\n",
    "#unused: \n",
    "from sklearn.svm import SVR\n",
    "\n"
   ]
  },
  {
   "cell_type": "code",
   "execution_count": 3,
   "id": "84e5e13b-0a71-4c0a-b99f-bdf5c7e06317",
   "metadata": {
    "tags": []
   },
   "outputs": [],
   "source": [
    "reviews_df = pd.read_csv(\"Reviews_cleanText_noSW_sageMakerLocal.csv\")"
   ]
  },
  {
   "cell_type": "code",
   "execution_count": 4,
   "id": "6c949ac8-3c69-4bd8-a6c0-74ed8c2b90b2",
   "metadata": {
    "tags": []
   },
   "outputs": [
    {
     "data": {
      "text/html": [
       "<div>\n",
       "<style scoped>\n",
       "    .dataframe tbody tr th:only-of-type {\n",
       "        vertical-align: middle;\n",
       "    }\n",
       "\n",
       "    .dataframe tbody tr th {\n",
       "        vertical-align: top;\n",
       "    }\n",
       "\n",
       "    .dataframe thead th {\n",
       "        text-align: right;\n",
       "    }\n",
       "</style>\n",
       "<table border=\"1\" class=\"dataframe\">\n",
       "  <thead>\n",
       "    <tr style=\"text-align: right;\">\n",
       "      <th></th>\n",
       "      <th>Text</th>\n",
       "      <th>Summary</th>\n",
       "      <th>Score</th>\n",
       "      <th>cleaned_text</th>\n",
       "      <th>cleaned_summary</th>\n",
       "      <th>Score_class</th>\n",
       "      <th>tokenized_reviews</th>\n",
       "    </tr>\n",
       "  </thead>\n",
       "  <tbody>\n",
       "    <tr>\n",
       "      <th>0</th>\n",
       "      <td>I have bought several of the Vitality canned d...</td>\n",
       "      <td>Good Quality Dog Food</td>\n",
       "      <td>5</td>\n",
       "      <td>buy several vitality can dog food products fin...</td>\n",
       "      <td>good quality dog food</td>\n",
       "      <td>1</td>\n",
       "      <td>['buy', 'several', 'vitality', 'can', 'dog', '...</td>\n",
       "    </tr>\n",
       "    <tr>\n",
       "      <th>1</th>\n",
       "      <td>Product arrived labeled as Jumbo Salted Peanut...</td>\n",
       "      <td>Not as Advertised</td>\n",
       "      <td>1</td>\n",
       "      <td>product arrive label jumbo salt peanutsthe pea...</td>\n",
       "      <td>advertise</td>\n",
       "      <td>-1</td>\n",
       "      <td>['product', 'arrive', 'label', 'jumbo', 'salt'...</td>\n",
       "    </tr>\n",
       "    <tr>\n",
       "      <th>2</th>\n",
       "      <td>This is a confection that has been around a fe...</td>\n",
       "      <td>\"Delight\" says it all</td>\n",
       "      <td>4</td>\n",
       "      <td>confection around centuries light pillowy citr...</td>\n",
       "      <td>delight say</td>\n",
       "      <td>1</td>\n",
       "      <td>['confection', 'around', 'centuries', 'light',...</td>\n",
       "    </tr>\n",
       "    <tr>\n",
       "      <th>3</th>\n",
       "      <td>If you are looking for the secret ingredient i...</td>\n",
       "      <td>Cough Medicine</td>\n",
       "      <td>2</td>\n",
       "      <td>look secret ingredient robitussin believe find...</td>\n",
       "      <td>cough medicine</td>\n",
       "      <td>-1</td>\n",
       "      <td>['look', 'secret', 'ingredient', 'robitussin',...</td>\n",
       "    </tr>\n",
       "    <tr>\n",
       "      <th>4</th>\n",
       "      <td>Great taffy at a great price.  There was a wid...</td>\n",
       "      <td>Great taffy</td>\n",
       "      <td>5</td>\n",
       "      <td>great taffy great price wide assortment yummy ...</td>\n",
       "      <td>great taffy</td>\n",
       "      <td>1</td>\n",
       "      <td>['great', 'taffy', 'great', 'price', 'wide', '...</td>\n",
       "    </tr>\n",
       "  </tbody>\n",
       "</table>\n",
       "</div>"
      ],
      "text/plain": [
       "                                                Text                Summary  \\\n",
       "0  I have bought several of the Vitality canned d...  Good Quality Dog Food   \n",
       "1  Product arrived labeled as Jumbo Salted Peanut...      Not as Advertised   \n",
       "2  This is a confection that has been around a fe...  \"Delight\" says it all   \n",
       "3  If you are looking for the secret ingredient i...         Cough Medicine   \n",
       "4  Great taffy at a great price.  There was a wid...            Great taffy   \n",
       "\n",
       "   Score                                       cleaned_text  \\\n",
       "0      5  buy several vitality can dog food products fin...   \n",
       "1      1  product arrive label jumbo salt peanutsthe pea...   \n",
       "2      4  confection around centuries light pillowy citr...   \n",
       "3      2  look secret ingredient robitussin believe find...   \n",
       "4      5  great taffy great price wide assortment yummy ...   \n",
       "\n",
       "         cleaned_summary  Score_class  \\\n",
       "0  good quality dog food            1   \n",
       "1              advertise           -1   \n",
       "2            delight say            1   \n",
       "3         cough medicine           -1   \n",
       "4            great taffy            1   \n",
       "\n",
       "                                   tokenized_reviews  \n",
       "0  ['buy', 'several', 'vitality', 'can', 'dog', '...  \n",
       "1  ['product', 'arrive', 'label', 'jumbo', 'salt'...  \n",
       "2  ['confection', 'around', 'centuries', 'light',...  \n",
       "3  ['look', 'secret', 'ingredient', 'robitussin',...  \n",
       "4  ['great', 'taffy', 'great', 'price', 'wide', '...  "
      ]
     },
     "execution_count": 4,
     "metadata": {},
     "output_type": "execute_result"
    }
   ],
   "source": [
    "reviews_df.head()"
   ]
  },
  {
   "cell_type": "code",
   "execution_count": 5,
   "id": "5d328b57-f776-4586-9f34-1c491c71fdce",
   "metadata": {
    "tags": []
   },
   "outputs": [],
   "source": [
    "assert(reviews_df.isna().sum().sum() == 0)"
   ]
  },
  {
   "cell_type": "markdown",
   "id": "70a96736-5917-4db8-a931-7348d1fa26f6",
   "metadata": {},
   "source": [
    "## Generate blanced data (OverSampler)"
   ]
  },
  {
   "cell_type": "code",
   "execution_count": 6,
   "id": "24482f56-ebeb-44c8-bf38-eba6d8746d39",
   "metadata": {
    "tags": []
   },
   "outputs": [
    {
     "name": "stdout",
     "output_type": "stream",
     "text": [
      "315241 items in training data, 78811 in test data\n",
      "CPU times: user 167 ms, sys: 8.54 ms, total: 176 ms\n",
      "Wall time: 176 ms\n"
     ]
    }
   ],
   "source": [
    "%%time\n",
    "\n",
    "X_train, X_test, y_train, y_test = train_test_split(reviews_df[\"cleaned_text\"], \n",
    "                                                    reviews_df[\"Score_class\"], \n",
    "                                                    test_size=0.2,\n",
    "                                                    random_state=42)\n",
    "ros = RandomOverSampler(random_state=42)\n",
    "X_res_train, y_res_train = ros.fit_resample(X_train.array.reshape(-1, 1), y_train)\n",
    "\n",
    "X_res_train = pd.Series(X_res_train[:,0])\n",
    "\n",
    "print(\"%d items in training data, %d in test data\" % (len(X_train), len(X_test)))"
   ]
  },
  {
   "cell_type": "code",
   "execution_count": 7,
   "id": "b79857fa-13dd-42f7-a46c-75ddeafa2eca",
   "metadata": {
    "tags": []
   },
   "outputs": [],
   "source": [
    "assert(X_res_train.isna().sum().sum() == 0)"
   ]
  },
  {
   "cell_type": "markdown",
   "id": "b82caeeb-a8f3-45fb-85b5-61362d2361fc",
   "metadata": {},
   "source": [
    "## TFIDF Vectorizer"
   ]
  },
  {
   "cell_type": "code",
   "execution_count": 9,
   "id": "d9e11155-ab25-4045-aae4-5a801ad0fff2",
   "metadata": {
    "tags": []
   },
   "outputs": [],
   "source": [
    "count_vect = CountVectorizer(min_df = 1, ngram_range = (1, 2))\n",
    "count_vect = count_vect.fit(X_res_train)\n",
    "X_train_counts = count_vect.transform(X_res_train)\n",
    "\n",
    "tfidf_transformer = TfidfTransformer()\n",
    "tfidf_transformer = tfidf_transformer.fit(X_train_counts)\n",
    "X_train_tfidf = tfidf_transformer.transform(X_train_counts)\n",
    "\n",
    "X_new_counts = count_vect.transform(X_test)\n",
    "X_test_tfidf = tfidf_transformer.transform(X_new_counts)"
   ]
  },
  {
   "cell_type": "markdown",
   "id": "dc8e4f56-27c3-49bd-97e7-56ab3abcc099",
   "metadata": {},
   "source": [
    "## Perform grid search on Multinomial Naive Bayes classifier"
   ]
  },
  {
   "cell_type": "code",
   "execution_count": 10,
   "id": "dc5169f8-f689-4d1e-9524-0d555f23cafe",
   "metadata": {
    "tags": []
   },
   "outputs": [
    {
     "name": "stdout",
     "output_type": "stream",
     "text": [
      "Fitting 5 folds for each of 8 candidates, totalling 40 fits\n",
      "[CV] END ........................alpha=1e-09, fit_prior=True; total time=   1.0s\n",
      "[CV] END ........................alpha=1e-09, fit_prior=True; total time=   1.1s\n",
      "[CV] END ........................alpha=1e-09, fit_prior=True; total time=   1.0s\n",
      "[CV] END ........................alpha=1e-09, fit_prior=True; total time=   1.0s\n",
      "[CV] END ........................alpha=1e-09, fit_prior=True; total time=   1.1s\n",
      "[CV] END .......................alpha=1e-09, fit_prior=False; total time=   1.1s\n",
      "[CV] END .......................alpha=1e-09, fit_prior=False; total time=   1.0s\n",
      "[CV] END .......................alpha=1e-09, fit_prior=False; total time=   1.1s\n",
      "[CV] END .......................alpha=1e-09, fit_prior=False; total time=   1.1s\n",
      "[CV] END .......................alpha=1e-09, fit_prior=False; total time=   1.1s\n",
      "[CV] END ..........................alpha=0.1, fit_prior=True; total time=   1.1s\n",
      "[CV] END ..........................alpha=0.1, fit_prior=True; total time=   1.1s\n",
      "[CV] END ..........................alpha=0.1, fit_prior=True; total time=   1.1s\n",
      "[CV] END ..........................alpha=0.1, fit_prior=True; total time=   1.1s\n",
      "[CV] END ..........................alpha=0.1, fit_prior=True; total time=   1.0s\n",
      "[CV] END .........................alpha=0.1, fit_prior=False; total time=   1.0s\n",
      "[CV] END .........................alpha=0.1, fit_prior=False; total time=   1.1s\n",
      "[CV] END .........................alpha=0.1, fit_prior=False; total time=   1.0s\n",
      "[CV] END .........................alpha=0.1, fit_prior=False; total time=   1.0s\n",
      "[CV] END .........................alpha=0.1, fit_prior=False; total time=   1.0s\n",
      "[CV] END ..........................alpha=0.5, fit_prior=True; total time=   1.1s\n",
      "[CV] END ..........................alpha=0.5, fit_prior=True; total time=   1.1s\n",
      "[CV] END ..........................alpha=0.5, fit_prior=True; total time=   1.1s\n",
      "[CV] END ..........................alpha=0.5, fit_prior=True; total time=   1.0s\n",
      "[CV] END ..........................alpha=0.5, fit_prior=True; total time=   1.1s\n",
      "[CV] END .........................alpha=0.5, fit_prior=False; total time=   1.1s\n",
      "[CV] END .........................alpha=0.5, fit_prior=False; total time=   1.1s\n",
      "[CV] END .........................alpha=0.5, fit_prior=False; total time=   1.1s\n",
      "[CV] END .........................alpha=0.5, fit_prior=False; total time=   1.1s\n",
      "[CV] END .........................alpha=0.5, fit_prior=False; total time=   1.1s\n",
      "[CV] END ............................alpha=1, fit_prior=True; total time=   1.1s\n",
      "[CV] END ............................alpha=1, fit_prior=True; total time=   1.2s\n",
      "[CV] END ............................alpha=1, fit_prior=True; total time=   1.1s\n",
      "[CV] END ............................alpha=1, fit_prior=True; total time=   1.1s\n",
      "[CV] END ............................alpha=1, fit_prior=True; total time=   1.1s\n",
      "[CV] END ...........................alpha=1, fit_prior=False; total time=   1.1s\n",
      "[CV] END ...........................alpha=1, fit_prior=False; total time=   1.0s\n",
      "[CV] END ...........................alpha=1, fit_prior=False; total time=   1.0s\n",
      "[CV] END ...........................alpha=1, fit_prior=False; total time=   1.1s\n",
      "[CV] END ...........................alpha=1, fit_prior=False; total time=   1.1s\n"
     ]
    },
    {
     "data": {
      "text/html": [
       "<style>#sk-container-id-1 {color: black;background-color: white;}#sk-container-id-1 pre{padding: 0;}#sk-container-id-1 div.sk-toggleable {background-color: white;}#sk-container-id-1 label.sk-toggleable__label {cursor: pointer;display: block;width: 100%;margin-bottom: 0;padding: 0.3em;box-sizing: border-box;text-align: center;}#sk-container-id-1 label.sk-toggleable__label-arrow:before {content: \"▸\";float: left;margin-right: 0.25em;color: #696969;}#sk-container-id-1 label.sk-toggleable__label-arrow:hover:before {color: black;}#sk-container-id-1 div.sk-estimator:hover label.sk-toggleable__label-arrow:before {color: black;}#sk-container-id-1 div.sk-toggleable__content {max-height: 0;max-width: 0;overflow: hidden;text-align: left;background-color: #f0f8ff;}#sk-container-id-1 div.sk-toggleable__content pre {margin: 0.2em;color: black;border-radius: 0.25em;background-color: #f0f8ff;}#sk-container-id-1 input.sk-toggleable__control:checked~div.sk-toggleable__content {max-height: 200px;max-width: 100%;overflow: auto;}#sk-container-id-1 input.sk-toggleable__control:checked~label.sk-toggleable__label-arrow:before {content: \"▾\";}#sk-container-id-1 div.sk-estimator input.sk-toggleable__control:checked~label.sk-toggleable__label {background-color: #d4ebff;}#sk-container-id-1 div.sk-label input.sk-toggleable__control:checked~label.sk-toggleable__label {background-color: #d4ebff;}#sk-container-id-1 input.sk-hidden--visually {border: 0;clip: rect(1px 1px 1px 1px);clip: rect(1px, 1px, 1px, 1px);height: 1px;margin: -1px;overflow: hidden;padding: 0;position: absolute;width: 1px;}#sk-container-id-1 div.sk-estimator {font-family: monospace;background-color: #f0f8ff;border: 1px dotted black;border-radius: 0.25em;box-sizing: border-box;margin-bottom: 0.5em;}#sk-container-id-1 div.sk-estimator:hover {background-color: #d4ebff;}#sk-container-id-1 div.sk-parallel-item::after {content: \"\";width: 100%;border-bottom: 1px solid gray;flex-grow: 1;}#sk-container-id-1 div.sk-label:hover label.sk-toggleable__label {background-color: #d4ebff;}#sk-container-id-1 div.sk-serial::before {content: \"\";position: absolute;border-left: 1px solid gray;box-sizing: border-box;top: 0;bottom: 0;left: 50%;z-index: 0;}#sk-container-id-1 div.sk-serial {display: flex;flex-direction: column;align-items: center;background-color: white;padding-right: 0.2em;padding-left: 0.2em;position: relative;}#sk-container-id-1 div.sk-item {position: relative;z-index: 1;}#sk-container-id-1 div.sk-parallel {display: flex;align-items: stretch;justify-content: center;background-color: white;position: relative;}#sk-container-id-1 div.sk-item::before, #sk-container-id-1 div.sk-parallel-item::before {content: \"\";position: absolute;border-left: 1px solid gray;box-sizing: border-box;top: 0;bottom: 0;left: 50%;z-index: -1;}#sk-container-id-1 div.sk-parallel-item {display: flex;flex-direction: column;z-index: 1;position: relative;background-color: white;}#sk-container-id-1 div.sk-parallel-item:first-child::after {align-self: flex-end;width: 50%;}#sk-container-id-1 div.sk-parallel-item:last-child::after {align-self: flex-start;width: 50%;}#sk-container-id-1 div.sk-parallel-item:only-child::after {width: 0;}#sk-container-id-1 div.sk-dashed-wrapped {border: 1px dashed gray;margin: 0 0.4em 0.5em 0.4em;box-sizing: border-box;padding-bottom: 0.4em;background-color: white;}#sk-container-id-1 div.sk-label label {font-family: monospace;font-weight: bold;display: inline-block;line-height: 1.2em;}#sk-container-id-1 div.sk-label-container {text-align: center;}#sk-container-id-1 div.sk-container {/* jupyter's `normalize.less` sets `[hidden] { display: none; }` but bootstrap.min.css set `[hidden] { display: none !important; }` so we also need the `!important` here to be able to override the default hidden behavior on the sphinx rendered scikit-learn.org. See: https://github.com/scikit-learn/scikit-learn/issues/21755 */display: inline-block !important;position: relative;}#sk-container-id-1 div.sk-text-repr-fallback {display: none;}</style><div id=\"sk-container-id-1\" class=\"sk-top-container\"><div class=\"sk-text-repr-fallback\"><pre>GridSearchCV(estimator=MultinomialNB(force_alpha=False),\n",
       "             param_grid={&#x27;alpha&#x27;: [1e-09, 0.1, 0.5, 1],\n",
       "                         &#x27;fit_prior&#x27;: array([ True, False])},\n",
       "             refit=&#x27;roc_auc&#x27;, return_train_score=True,\n",
       "             scoring=[&#x27;accuracy&#x27;, &#x27;f1&#x27;, &#x27;roc_auc&#x27;, &#x27;recall&#x27;], verbose=2)</pre><b>In a Jupyter environment, please rerun this cell to show the HTML representation or trust the notebook. <br />On GitHub, the HTML representation is unable to render, please try loading this page with nbviewer.org.</b></div><div class=\"sk-container\" hidden><div class=\"sk-item sk-dashed-wrapped\"><div class=\"sk-label-container\"><div class=\"sk-label sk-toggleable\"><input class=\"sk-toggleable__control sk-hidden--visually\" id=\"sk-estimator-id-1\" type=\"checkbox\" ><label for=\"sk-estimator-id-1\" class=\"sk-toggleable__label sk-toggleable__label-arrow\">GridSearchCV</label><div class=\"sk-toggleable__content\"><pre>GridSearchCV(estimator=MultinomialNB(force_alpha=False),\n",
       "             param_grid={&#x27;alpha&#x27;: [1e-09, 0.1, 0.5, 1],\n",
       "                         &#x27;fit_prior&#x27;: array([ True, False])},\n",
       "             refit=&#x27;roc_auc&#x27;, return_train_score=True,\n",
       "             scoring=[&#x27;accuracy&#x27;, &#x27;f1&#x27;, &#x27;roc_auc&#x27;, &#x27;recall&#x27;], verbose=2)</pre></div></div></div><div class=\"sk-parallel\"><div class=\"sk-parallel-item\"><div class=\"sk-item\"><div class=\"sk-label-container\"><div class=\"sk-label sk-toggleable\"><input class=\"sk-toggleable__control sk-hidden--visually\" id=\"sk-estimator-id-2\" type=\"checkbox\" ><label for=\"sk-estimator-id-2\" class=\"sk-toggleable__label sk-toggleable__label-arrow\">estimator: MultinomialNB</label><div class=\"sk-toggleable__content\"><pre>MultinomialNB(force_alpha=False)</pre></div></div></div><div class=\"sk-serial\"><div class=\"sk-item\"><div class=\"sk-estimator sk-toggleable\"><input class=\"sk-toggleable__control sk-hidden--visually\" id=\"sk-estimator-id-3\" type=\"checkbox\" ><label for=\"sk-estimator-id-3\" class=\"sk-toggleable__label sk-toggleable__label-arrow\">MultinomialNB</label><div class=\"sk-toggleable__content\"><pre>MultinomialNB(force_alpha=False)</pre></div></div></div></div></div></div></div></div></div></div>"
      ],
      "text/plain": [
       "GridSearchCV(estimator=MultinomialNB(force_alpha=False),\n",
       "             param_grid={'alpha': [1e-09, 0.1, 0.5, 1],\n",
       "                         'fit_prior': array([ True, False])},\n",
       "             refit='roc_auc', return_train_score=True,\n",
       "             scoring=['accuracy', 'f1', 'roc_auc', 'recall'], verbose=2)"
      ]
     },
     "execution_count": 10,
     "metadata": {},
     "output_type": "execute_result"
    }
   ],
   "source": [
    "param_dict = {'alpha': [1e-9, 0.1, 0.5, 1],\n",
    "              'fit_prior': np.array([True, False], dtype='bool')}\n",
    "mnb = MultinomialNB(force_alpha=False)\n",
    "mnb_cv = GridSearchCV(mnb, param_grid=param_dict,\n",
    "                      scoring=['accuracy', 'f1', 'roc_auc', 'recall'],\n",
    "                      refit='roc_auc',\n",
    "                      return_train_score=True,\n",
    "                      verbose=2)\n",
    "mnb_cv.fit(X_train_tfidf, y_res_train)"
   ]
  },
  {
   "cell_type": "code",
   "execution_count": 11,
   "id": "0a99d41a-28cc-4c2b-8544-1d2d0607ab56",
   "metadata": {
    "tags": []
   },
   "outputs": [
    {
     "data": {
      "text/plain": [
       "0.9928193854737575"
      ]
     },
     "execution_count": 11,
     "metadata": {},
     "output_type": "execute_result"
    }
   ],
   "source": [
    "mnb_cv.best_score_"
   ]
  },
  {
   "cell_type": "code",
   "execution_count": 12,
   "id": "95ee0939-faa3-4ddb-9f89-fd154ed83d57",
   "metadata": {
    "tags": []
   },
   "outputs": [
    {
     "data": {
      "text/plain": [
       "{'alpha': 0.1, 'fit_prior': True}"
      ]
     },
     "execution_count": 12,
     "metadata": {},
     "output_type": "execute_result"
    }
   ],
   "source": [
    "mnb_cv.best_params_"
   ]
  },
  {
   "cell_type": "code",
   "execution_count": 13,
   "id": "78a70a45-62c5-4a34-bec9-82cd8abd0a2b",
   "metadata": {
    "tags": []
   },
   "outputs": [],
   "source": [
    "mnb_cv_results = pd.DataFrame(mnb_cv.cv_results_)"
   ]
  },
  {
   "cell_type": "code",
   "execution_count": 26,
   "id": "f650d05a-4ffd-4c9a-af3c-c38f36e74f02",
   "metadata": {
    "tags": []
   },
   "outputs": [
    {
     "name": "stdout",
     "output_type": "stream",
     "text": [
      "              mean_train_accuracy  std_train_accuracy\n",
      "param_alpha                                          \n",
      "1.000000e-09             0.997297            0.000084\n",
      "1.000000e-01             0.991542            0.000168\n",
      "5.000000e-01             0.971889            0.000307\n",
      "1.000000e+00             0.954506            0.000339\n",
      "                 mean_train_accuracy  std_train_accuracy\n",
      "param_fit_prior                                         \n",
      "False                       0.978808            0.000742\n",
      "True                        0.978809            0.000741\n"
     ]
    },
    {
     "data": {
      "image/png": "[encoded data removed]",
      "text/plain": [
       "<Figure size 600x400 with 2 Axes>"
      ]
     },
     "metadata": {},
     "output_type": "display_data"
    }
   ],
   "source": [
    "metric = 'accuracy'\n",
    "p1 = helper_module.metric_cv_plot_multiParam(mnb_cv_results, metric, param_dict)\n",
    "p1.savefig(f'mNB_cv_{metric}_scores.png', bbox_inches = \"tight\")"
   ]
  },
  {
   "cell_type": "code",
   "execution_count": 27,
   "id": "978f640a-33e5-4318-b304-113653499d36",
   "metadata": {
    "tags": []
   },
   "outputs": [
    {
     "name": "stdout",
     "output_type": "stream",
     "text": [
      "              mean_train_recall  std_train_recall\n",
      "param_alpha                                      \n",
      "1.000000e-09           0.997644          0.000060\n",
      "1.000000e-01           0.989599          0.000210\n",
      "5.000000e-01           0.957041          0.000337\n",
      "1.000000e+00           0.927685          0.000300\n",
      "                 mean_train_recall  std_train_recall\n",
      "param_fit_prior                                     \n",
      "False                     0.967992          0.000751\n",
      "True                      0.967993          0.000751\n"
     ]
    },
    {
     "data": {
      "image/png": "[encoded data removed]",
      "text/plain": [
       "<Figure size 600x400 with 2 Axes>"
      ]
     },
     "metadata": {},
     "output_type": "display_data"
    }
   ],
   "source": [
    "metric = 'recall'\n",
    "p1 = helper_module.metric_cv_plot_multiParam(mnb_cv_results, metric, param_dict)\n",
    "p1.savefig(f'mNB_cv_{metric}_scores.png', bbox_inches = \"tight\")"
   ]
  },
  {
   "cell_type": "code",
   "execution_count": 28,
   "id": "bd75af4f-de6f-4521-8cd0-84e80f9767a4",
   "metadata": {
    "tags": []
   },
   "outputs": [
    {
     "name": "stdout",
     "output_type": "stream",
     "text": [
      "              mean_train_f1  std_train_f1\n",
      "param_alpha                              \n",
      "1.000000e-09       0.997298      0.000084\n",
      "1.000000e-01       0.991525      0.000168\n",
      "5.000000e-01       0.971466      0.000312\n",
      "1.000000e+00       0.953252      0.000346\n",
      "                 mean_train_f1  std_train_f1\n",
      "param_fit_prior                             \n",
      "False                 0.978385      0.000754\n",
      "True                  0.978386      0.000753\n"
     ]
    },
    {
     "data": {
      "image/png": "[encoded data removed]",
      "text/plain": [
       "<Figure size 600x400 with 2 Axes>"
      ]
     },
     "metadata": {},
     "output_type": "display_data"
    }
   ],
   "source": [
    "metric = 'f1'\n",
    "p1 = helper_module.metric_cv_plot_multiParam(mnb_cv_results, metric, param_dict)\n",
    "p1.savefig(f'mNB_cv_{metric}_scores.png', bbox_inches = \"tight\")"
   ]
  },
  {
   "cell_type": "code",
   "execution_count": 29,
   "id": "271ae39b-3e3d-4483-b058-d9a8478fa930",
   "metadata": {
    "tags": []
   },
   "outputs": [
    {
     "name": "stdout",
     "output_type": "stream",
     "text": [
      "              mean_train_roc_auc  std_train_roc_auc\n",
      "param_alpha                                        \n",
      "1.000000e-09            0.999968           0.000001\n",
      "1.000000e-01            0.999569           0.000015\n",
      "5.000000e-01            0.996825           0.000106\n",
      "1.000000e+00            0.992882           0.000221\n",
      "                 mean_train_roc_auc  std_train_roc_auc\n",
      "param_fit_prior                                       \n",
      "False                      0.997311           0.000368\n",
      "True                       0.997311           0.000368\n"
     ]
    },
    {
     "data": {
      "image/png": "[encoded data removed]",
      "text/plain": [
       "<Figure size 600x400 with 2 Axes>"
      ]
     },
     "metadata": {},
     "output_type": "display_data"
    }
   ],
   "source": [
    "metric = 'roc_auc'\n",
    "p1 = helper_module.metric_cv_plot_multiParam(mnb_cv_results, metric, param_dict)\n",
    "p1.savefig(f'mNB_cv_{metric}_scores.png', bbox_inches = \"tight\")"
   ]
  },
  {
   "cell_type": "markdown",
   "id": "5be7625e-2a6c-42a9-84db-905af7395aca",
   "metadata": {
    "tags": []
   },
   "source": [
    "### Refit with best params\n"
   ]
  },
  {
   "cell_type": "code",
   "execution_count": null,
   "id": "05c9d46b-1166-46c2-8ae7-563baa543a4d",
   "metadata": {},
   "outputs": [],
   "source": [
    "prrint(mnb_cv.best_params_)"
   ]
  },
  {
   "cell_type": "code",
   "execution_count": 34,
   "id": "88984d72-97b6-4890-a47d-5d4ea5168615",
   "metadata": {
    "tags": []
   },
   "outputs": [],
   "source": [
    "mnb_best = MultinomialNB(alpha=0.1, fit_prior=True, force_alpha=False)\n",
    "mnb_best.fit(X_train_tfidf, y_res_train)\n",
    "y_pred = mnb_best.predict(X_test_tfidf)"
   ]
  },
  {
   "cell_type": "code",
   "execution_count": 45,
   "id": "d01919ea-3758-4901-90cb-e716b8a15af7",
   "metadata": {
    "tags": []
   },
   "outputs": [
    {
     "name": "stdout",
     "output_type": "stream",
     "text": [
      "AUC Score: 0.8194321796657568\n",
      "Accuracy Score: 0.8746241006966032\n",
      "F1 Score: 0.9194905932486495\n",
      "Recall: 0.91803198672372\n",
      "[[12505  4843]\n",
      " [ 5038 56425]]\n"
     ]
    }
   ],
   "source": [
    "auc, acc, f1, recall, cm = model_eval(y_test, y_pred)"
   ]
  },
  {
   "cell_type": "code",
   "execution_count": 46,
   "id": "717b493e-83ae-4d79-b57e-b88b7d4ffac4",
   "metadata": {
    "tags": []
   },
   "outputs": [
    {
     "name": "stdout",
     "output_type": "stream",
     "text": [
      "MultinomialNB_best_noSW saved successfully!\n"
     ]
    }
   ],
   "source": [
    "name='MultinomialNB_best_noSW'\n",
    "add_model_scores_to_results(file_path = 'Model_results.csv', \n",
    "                            model_name = name,\n",
    "                            datashift = 'none', with_sw = 0,\n",
    "                            ROC_AUC = auc, accuracy = acc, \n",
    "                            f1 = f1, recall=recall, cm = cm, first_entry=True)"
   ]
  },
  {
   "cell_type": "markdown",
   "id": "49cdd514-cbe2-4112-8293-f32aaeba2e32",
   "metadata": {},
   "source": [
    "## Test on data from shifted distributions"
   ]
  },
  {
   "cell_type": "markdown",
   "id": "51c4e53d-336d-4e7d-bb99-b161c6df0b37",
   "metadata": {},
   "source": [
    "### 1. Review summaries: no stopwords"
   ]
  },
  {
   "cell_type": "code",
   "execution_count": 47,
   "id": "5b647ee6-5bf1-4ae8-9f58-44bf3b1815d4",
   "metadata": {
    "tags": []
   },
   "outputs": [],
   "source": [
    "X_train, X_test, y_train, y_test = train_test_split(reviews_df[\"cleaned_summary\"], \n",
    "                                                    reviews_df[\"Score_class\"], \n",
    "                                                    test_size=0.2,\n",
    "                                                    random_state=42)"
   ]
  },
  {
   "cell_type": "code",
   "execution_count": 48,
   "id": "9ec1d8e3-b934-4111-8002-9cba7d222d4a",
   "metadata": {
    "tags": []
   },
   "outputs": [],
   "source": [
    "X_new_counts = count_vect.transform(X_test)\n",
    "X_test_tfidf = tfidf_transformer.transform(X_new_counts)"
   ]
  },
  {
   "cell_type": "code",
   "execution_count": 49,
   "id": "8023d859-8f10-4f57-8e51-ff2675ce96eb",
   "metadata": {
    "tags": []
   },
   "outputs": [],
   "source": [
    "y_pred = mnb_best.predict(X_test_tfidf)"
   ]
  },
  {
   "cell_type": "code",
   "execution_count": 50,
   "id": "6552c1b9-656f-44a6-bdd2-16c3f18d5618",
   "metadata": {
    "tags": []
   },
   "outputs": [
    {
     "name": "stdout",
     "output_type": "stream",
     "text": [
      "AUC Score: 0.7753612255502486\n",
      "Accuracy Score: 0.8197586631307813\n",
      "F1 Score: 0.8808974821199493\n",
      "Recall: 0.8546767974228398\n",
      "[[12075  5273]\n",
      " [ 8932 52531]]\n"
     ]
    }
   ],
   "source": [
    "auc, acc, f1, recall, cm = helper_module.model_eval(y_test, y_pred)"
   ]
  },
  {
   "cell_type": "code",
   "execution_count": 51,
   "id": "1495bebd-3afa-4df0-bc13-b467e9fd0901",
   "metadata": {
    "tags": []
   },
   "outputs": [
    {
     "name": "stdout",
     "output_type": "stream",
     "text": [
      "MultinomialNB_best_noSW_Summary saved successfully!\n"
     ]
    }
   ],
   "source": [
    "name = 'MultinomialNB_best_noSW_Summary'\n",
    "helper_module.add_model_scores_to_results(file_path = 'Model_results.csv', \n",
    "                            model_name = name,\n",
    "                            datashift = 'summary', with_sw = 0,\n",
    "                            ROC_AUC = auc, accuracy = acc, \n",
    "                            f1 = f1, recall=recall, cm = cm, first_entry=False)"
   ]
  },
  {
   "cell_type": "markdown",
   "id": "ccffa479-add7-4936-a46b-c4af0bb1b860",
   "metadata": {
    "tags": []
   },
   "source": [
    "### 2. Random Dropout on cleaned summary text"
   ]
  },
  {
   "cell_type": "code",
   "execution_count": 53,
   "id": "c98fbc9e-7e21-4df7-b0a9-c3880be7a6f8",
   "metadata": {
    "tags": []
   },
   "outputs": [
    {
     "name": "stdout",
     "output_type": "stream",
     "text": [
      "CPU times: user 65.7 ms, sys: 31 µs, total: 65.7 ms\n",
      "Wall time: 64.5 ms\n"
     ]
    }
   ],
   "source": [
    "%%time\n",
    "X_train, X_test, y_train, y_test = train_test_split(reviews_df[\"cleaned_text\"], \n",
    "                                                    reviews_df[\"Score_class\"], \n",
    "                                                    test_size=0.2,\n",
    "                                                    random_state=42)"
   ]
  },
  {
   "cell_type": "code",
   "execution_count": 58,
   "id": "c6fc49ad-ffea-4c2d-989d-22402d603a7e",
   "metadata": {
    "tags": []
   },
   "outputs": [
    {
     "name": "stdout",
     "output_type": "stream",
     "text": [
      "AUC Score: 0.6204992464859354\n",
      "Accuracy Score: 0.6492621588356955\n",
      "F1 Score: 0.7492425204564834\n",
      "Recall: 0.6718838976294681\n",
      "[[ 9873  7475]\n",
      " [20167 41296]]\n",
      "MultinomialNB_best_SW+Dropout0.1 saved successfully!\n",
      "AUC Score: 0.7266662895479339\n",
      "Accuracy Score: 0.7921736813388994\n",
      "F1 Score: 0.8636117610811801\n",
      "Recall: 0.8436945804793128\n",
      "[[10576  6772]\n",
      " [ 9607 51856]]\n",
      "MultinomialNB_best_SW+Dropout0.25 saved successfully!\n",
      "AUC Score: 0.768341192791338\n",
      "Accuracy Score: 0.8305566481836292\n",
      "F1 Score: 0.8900597698121285\n",
      "Recall: 0.8794884727396971\n",
      "[[11401  5947]\n",
      " [ 7407 54056]]\n",
      "MultinomialNB_best_SW+Dropout0.5 saved successfully!\n"
     ]
    }
   ],
   "source": [
    "for i in [0.1, 0.25, 0.5]:\n",
    "    X_test_dropout = X_test.apply(helper_module.random_dropout,\n",
    "                                  p=i, random_state=42)\n",
    "    X_new_counts = count_vect.transform(X_test_dropout)\n",
    "    X_test_tfidf = tfidf_transformer.transform(X_new_counts)\n",
    "    y_pred = mnb_best.predict(X_test_tfidf)\n",
    "    auc, acc, f1, recall, cm = helper_module.model_eval(y_test, y_pred)\n",
    "    name = f'MultinomialNB_best_SW+Dropout{i}'\n",
    "    helper_module.add_model_scores_to_results(file_path = 'Model_results.csv', \n",
    "                                model_name = name,\n",
    "                                datashift = f'dropout_{i}', with_sw = 0,\n",
    "                                ROC_AUC = auc, accuracy = acc, \n",
    "                                f1 = f1, recall=recall, cm = cm, first_entry=False)"
   ]
  },
  {
   "cell_type": "markdown",
   "id": "9651972e-0ad7-4c1e-9ae3-a3a09b986007",
   "metadata": {},
   "source": [
    "### 3. Cleaned reviews: with Stopwords"
   ]
  },
  {
   "cell_type": "code",
   "execution_count": 59,
   "id": "c5535a4c-6f82-45ed-b4fe-007f8fc275dc",
   "metadata": {
    "tags": []
   },
   "outputs": [
    {
     "data": {
      "text/html": [
       "<div>\n",
       "<style scoped>\n",
       "    .dataframe tbody tr th:only-of-type {\n",
       "        vertical-align: middle;\n",
       "    }\n",
       "\n",
       "    .dataframe tbody tr th {\n",
       "        vertical-align: top;\n",
       "    }\n",
       "\n",
       "    .dataframe thead th {\n",
       "        text-align: right;\n",
       "    }\n",
       "</style>\n",
       "<table border=\"1\" class=\"dataframe\">\n",
       "  <thead>\n",
       "    <tr style=\"text-align: right;\">\n",
       "      <th></th>\n",
       "      <th>Unnamed: 0</th>\n",
       "      <th>Text</th>\n",
       "      <th>Summary</th>\n",
       "      <th>Score</th>\n",
       "      <th>cleaned_text</th>\n",
       "      <th>cleaned_summary</th>\n",
       "      <th>Score_class</th>\n",
       "    </tr>\n",
       "  </thead>\n",
       "  <tbody>\n",
       "    <tr>\n",
       "      <th>0</th>\n",
       "      <td>0</td>\n",
       "      <td>I have bought several of the Vitality canned d...</td>\n",
       "      <td>Good Quality Dog Food</td>\n",
       "      <td>5</td>\n",
       "      <td>i have buy several of the vitality can dog foo...</td>\n",
       "      <td>good quality dog food</td>\n",
       "      <td>1</td>\n",
       "    </tr>\n",
       "    <tr>\n",
       "      <th>1</th>\n",
       "      <td>1</td>\n",
       "      <td>Product arrived labeled as Jumbo Salted Peanut...</td>\n",
       "      <td>Not as Advertised</td>\n",
       "      <td>1</td>\n",
       "      <td>product arrive label as jumbo salt peanutsthe ...</td>\n",
       "      <td>not as advertise</td>\n",
       "      <td>-1</td>\n",
       "    </tr>\n",
       "    <tr>\n",
       "      <th>2</th>\n",
       "      <td>2</td>\n",
       "      <td>This is a confection that has been around a fe...</td>\n",
       "      <td>\"Delight\" says it all</td>\n",
       "      <td>4</td>\n",
       "      <td>this be a confection that have be around a few...</td>\n",
       "      <td>delight say it all</td>\n",
       "      <td>1</td>\n",
       "    </tr>\n",
       "    <tr>\n",
       "      <th>3</th>\n",
       "      <td>3</td>\n",
       "      <td>If you are looking for the secret ingredient i...</td>\n",
       "      <td>Cough Medicine</td>\n",
       "      <td>2</td>\n",
       "      <td>if you be look for the secret ingredient in ro...</td>\n",
       "      <td>cough medicine</td>\n",
       "      <td>-1</td>\n",
       "    </tr>\n",
       "    <tr>\n",
       "      <th>4</th>\n",
       "      <td>4</td>\n",
       "      <td>Great taffy at a great price.  There was a wid...</td>\n",
       "      <td>Great taffy</td>\n",
       "      <td>5</td>\n",
       "      <td>great taffy at a great price there be a wide a...</td>\n",
       "      <td>great taffy</td>\n",
       "      <td>1</td>\n",
       "    </tr>\n",
       "  </tbody>\n",
       "</table>\n",
       "</div>"
      ],
      "text/plain": [
       "   Unnamed: 0                                               Text  \\\n",
       "0           0  I have bought several of the Vitality canned d...   \n",
       "1           1  Product arrived labeled as Jumbo Salted Peanut...   \n",
       "2           2  This is a confection that has been around a fe...   \n",
       "3           3  If you are looking for the secret ingredient i...   \n",
       "4           4  Great taffy at a great price.  There was a wid...   \n",
       "\n",
       "                 Summary  Score  \\\n",
       "0  Good Quality Dog Food      5   \n",
       "1      Not as Advertised      1   \n",
       "2  \"Delight\" says it all      4   \n",
       "3         Cough Medicine      2   \n",
       "4            Great taffy      5   \n",
       "\n",
       "                                        cleaned_text        cleaned_summary  \\\n",
       "0  i have buy several of the vitality can dog foo...  good quality dog food   \n",
       "1  product arrive label as jumbo salt peanutsthe ...       not as advertise   \n",
       "2  this be a confection that have be around a few...     delight say it all   \n",
       "3  if you be look for the secret ingredient in ro...         cough medicine   \n",
       "4  great taffy at a great price there be a wide a...            great taffy   \n",
       "\n",
       "   Score_class  \n",
       "0            1  \n",
       "1           -1  \n",
       "2            1  \n",
       "3           -1  \n",
       "4            1  "
      ]
     },
     "execution_count": 59,
     "metadata": {},
     "output_type": "execute_result"
    }
   ],
   "source": [
    "reviews_sw_df = pd.read_csv('Reviews_cleanText_SW_sageMakerLocal.csv')\n",
    "reviews_sw_df.head()"
   ]
  },
  {
   "cell_type": "code",
   "execution_count": 60,
   "id": "5f3c2122-a9af-4cc8-b771-c916621b17e6",
   "metadata": {
    "tags": []
   },
   "outputs": [],
   "source": [
    "reviews_sw_df.dropna(inplace=True)"
   ]
  },
  {
   "cell_type": "code",
   "execution_count": 61,
   "id": "2a084e40-3721-40a8-b6ac-2cad9d63af2a",
   "metadata": {
    "tags": []
   },
   "outputs": [],
   "source": [
    "X_train, X_test, y_train, y_test = train_test_split(reviews_sw_df[\"cleaned_text\"], \n",
    "                                                    reviews_sw_df[\"Score_class\"], \n",
    "                                                    test_size=0.2,\n",
    "                                                    random_state=42)"
   ]
  },
  {
   "cell_type": "code",
   "execution_count": 62,
   "id": "a22d373e-d954-40ba-b0d6-679af7c3ebb4",
   "metadata": {
    "tags": []
   },
   "outputs": [],
   "source": [
    "X_new_counts = count_vect.transform(X_test)\n",
    "X_test_tfidf = tfidf_transformer.transform(X_new_counts)"
   ]
  },
  {
   "cell_type": "code",
   "execution_count": 63,
   "id": "f65acbbf-f854-4261-8255-db5bbf49d3eb",
   "metadata": {
    "tags": []
   },
   "outputs": [],
   "source": [
    "y_pred = mnb_best.predict(X_test_tfidf)"
   ]
  },
  {
   "cell_type": "code",
   "execution_count": 64,
   "id": "fe6ddae0-9442-4a44-a026-6c25309ca191",
   "metadata": {
    "tags": []
   },
   "outputs": [
    {
     "name": "stdout",
     "output_type": "stream",
     "text": [
      "AUC Score: 0.9176117335507923\n",
      "Accuracy Score: 0.936826510326314\n",
      "F1 Score: 0.9591811688471074\n",
      "Recall: 0.9519610231425092\n",
      "[[15367  2031]\n",
      " [ 2958 58617]]\n"
     ]
    }
   ],
   "source": [
    "auc, acc, f1, recall, cm = helper_module.model_eval(y_test, y_pred)"
   ]
  },
  {
   "cell_type": "code",
   "execution_count": 65,
   "id": "0a659b05-e3cb-461c-a158-ae95549f5bb1",
   "metadata": {
    "tags": []
   },
   "outputs": [
    {
     "name": "stdout",
     "output_type": "stream",
     "text": [
      "MultinomialNB_best_SW saved successfully!\n"
     ]
    }
   ],
   "source": [
    "name = 'MultinomialNB_best_SW'\n",
    "helper_module.add_model_scores_to_results(file_path = 'Model_results.csv', \n",
    "                            model_name = name,\n",
    "                            datashift = 'stopwords', with_sw = 1,\n",
    "                            ROC_AUC = auc, accuracy = acc, \n",
    "                            f1 = f1, recall=recall, cm = cm, first_entry=False)"
   ]
  },
  {
   "cell_type": "markdown",
   "id": "8d6da5be-af14-4837-9f95-884ef0fe75b2",
   "metadata": {},
   "source": [
    "### Summary with stopwords"
   ]
  },
  {
   "cell_type": "code",
   "execution_count": 66,
   "id": "973550ad-2e68-41d6-9192-3396e66a8d55",
   "metadata": {
    "tags": []
   },
   "outputs": [],
   "source": [
    "X_train, X_test, y_train, y_test = train_test_split(reviews_sw_df[\"cleaned_summary\"], \n",
    "                                                    reviews_sw_df[\"Score_class\"], \n",
    "                                                    test_size=0.2,\n",
    "                                                    random_state=42)"
   ]
  },
  {
   "cell_type": "code",
   "execution_count": 67,
   "id": "0380ab9b-65bb-498c-b9c9-c2d518240535",
   "metadata": {
    "tags": []
   },
   "outputs": [],
   "source": [
    "X_new_counts = count_vect.transform(X_test)\n",
    "X_test_tfidf = tfidf_transformer.transform(X_new_counts)"
   ]
  },
  {
   "cell_type": "code",
   "execution_count": 68,
   "id": "fbe130ae-798a-4126-baa8-edc683eff7a2",
   "metadata": {
    "tags": []
   },
   "outputs": [],
   "source": [
    "y_pred = mnb_best.predict(X_test_tfidf)"
   ]
  },
  {
   "cell_type": "code",
   "execution_count": 69,
   "id": "56ef3f11-b578-4f8a-a5a1-d6362cb45bce",
   "metadata": {
    "tags": []
   },
   "outputs": [
    {
     "name": "stdout",
     "output_type": "stream",
     "text": [
      "AUC Score: 0.7695031335591096\n",
      "Accuracy Score: 0.814607524090512\n",
      "F1 Score: 0.8773117693886957\n",
      "Recall: 0.8501339829476249\n",
      "[[11985  5413]\n",
      " [ 9228 52347]]\n"
     ]
    }
   ],
   "source": [
    "auc, acc, f1, recall, cm = helper_module.model_eval(y_test, y_pred)"
   ]
  },
  {
   "cell_type": "code",
   "execution_count": 70,
   "id": "3d5b5da6-bc5b-4133-bcab-0dfad0703f63",
   "metadata": {
    "tags": []
   },
   "outputs": [
    {
     "name": "stdout",
     "output_type": "stream",
     "text": [
      "MultinomialNB_best_Summary+SW saved successfully!\n"
     ]
    }
   ],
   "source": [
    "name = 'MultinomialNB_best_Summary+SW'\n",
    "helper_module.add_model_scores_to_results(file_path = 'Model_results.csv', \n",
    "                            model_name = name,\n",
    "                            datashift = 'summary+stopwords', with_sw = 1,\n",
    "                            ROC_AUC = auc, accuracy = acc, \n",
    "                            f1 = f1, recall=recall, cm = cm, first_entry=False)"
   ]
  },
  {
   "cell_type": "markdown",
   "id": "21d606af-b283-4001-995a-9900421b8d4d",
   "metadata": {},
   "source": [
    "### 5. Random dropout on review text with stopwords"
   ]
  },
  {
   "cell_type": "code",
   "execution_count": null,
   "id": "bdb20e02-2027-4c8d-ac22-bb308292ed09",
   "metadata": {},
   "outputs": [],
   "source": [
    "X_train, X_test, y_train, y_test = train_test_split(reviews_sw_df[\"cleaned_text\"], \n",
    "                                                    reviews_sw_df[\"Score_class\"], \n",
    "                                                    test_size=0.2,\n",
    "                                                    random_state=42)"
   ]
  },
  {
   "cell_type": "code",
   "execution_count": 72,
   "id": "9df66544-e4cc-4230-be67-112b9841c0c0",
   "metadata": {
    "tags": []
   },
   "outputs": [
    {
     "name": "stdout",
     "output_type": "stream",
     "text": [
      "AUC Score: 0.5095224370691989\n",
      "Accuracy Score: 0.27888012358654224\n",
      "F1 Score: 0.1737061273051755\n",
      "Recall: 0.09721477872513196\n",
      "[[16038  1360]\n",
      " [55589  5986]]\n",
      "MultinomialNB_best_SW+Dropout0.1 saved successfully!\n",
      "AUC Score: 0.7287867128524579\n",
      "Accuracy Score: 0.7476099426386233\n",
      "F1 Score: 0.8248906225291233\n",
      "Recall: 0.762436053593179\n",
      "[[12094  5304]\n",
      " [14628 46947]]\n",
      "MultinomialNB_best_SW+Dropout0.25 saved successfully!\n",
      "AUC Score: 0.7418036840631622\n",
      "Accuracy Score: 0.7695161637521685\n",
      "F1 Score: 0.8426194922874732\n",
      "Recall: 0.7913438895655704\n",
      "[[12044  5354]\n",
      " [12848 48727]]\n",
      "MultinomialNB_best_SW+Dropout0.5 saved successfully!\n"
     ]
    }
   ],
   "source": [
    "for i in [0.1, 0.25, 0.5]:\n",
    "    X_test_dropout = X_test.apply(helper_module.random_dropout, p=i, random_state=42)\n",
    "    X_new_counts = count_vect.transform(X_test_dropout)\n",
    "    X_test_tfidf = tfidf_transformer.transform(X_new_counts)\n",
    "    y_pred = mnb_best.predict(X_test_tfidf)\n",
    "    auc, acc, f1, recall, cm = helper_module.model_eval(y_test, y_pred)\n",
    "    name = f'MultinomialNB_best_SW+Dropout{i}'\n",
    "    helper_module.add_model_scores_to_results(file_path = 'Model_results.csv', \n",
    "                                model_name = name,\n",
    "                                datashift = f'dropout_{i}', with_sw = 1,\n",
    "                                ROC_AUC = auc, accuracy = acc, \n",
    "                                f1 = f1, recall=recall, cm = cm, first_entry=False)"
   ]
  },
  {
   "cell_type": "markdown",
   "id": "25779e6e-0cd6-4cf9-b149-3347befaf8b0",
   "metadata": {},
   "source": [
    "Noting here that as I have it written dropout proportion is actually 1 - {i}, which explains why the scores are worse for smaller values of p. This is because np.random.binomial returns 1 with probability p. So p*(words_in_sentence) words are retained. Should try this with larger values of p."
   ]
  },
  {
   "cell_type": "code",
   "execution_count": null,
   "id": "ac19ca1c-f971-449a-8534-6dea7bcf1184",
   "metadata": {},
   "outputs": [],
   "source": []
  }
 ],
 "metadata": {
  "kernelspec": {
   "display_name": "conda_pytorch_p39",
   "language": "python",
   "name": "conda_pytorch_p39"
  },
  "language_info": {
   "codemirror_mode": {
    "name": "ipython",
    "version": 3
   },
   "file_extension": ".py",
   "mimetype": "text/x-python",
   "name": "python",
   "nbconvert_exporter": "python",
   "pygments_lexer": "ipython3",
   "version": "3.9.15"
  }
 },
 "nbformat": 4,
 "nbformat_minor": 5
}
