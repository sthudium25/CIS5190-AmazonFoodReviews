{
 "cells": [
  {
   "cell_type": "code",
   "execution_count": 1,
   "id": "b289ce7b-6b2e-4002-a2ec-21e6206f0864",
   "metadata": {
    "tags": []
   },
   "outputs": [
    {
     "name": "stdout",
     "output_type": "stream",
     "text": [
      "Looking in indexes: https://pypi.org/simple, https://pip.repos.neuron.amazonaws.com\n",
      "Collecting imblearn\n",
      "  Using cached imblearn-0.0-py2.py3-none-any.whl (1.9 kB)\n",
      "Collecting imbalanced-learn\n",
      "  Using cached imbalanced_learn-0.10.1-py3-none-any.whl (226 kB)\n",
      "Requirement already satisfied: scikit-learn>=1.0.2 in /home/ec2-user/anaconda3/envs/python3/lib/python3.10/site-packages (from imbalanced-learn->imblearn) (1.2.0)\n",
      "Requirement already satisfied: scipy>=1.3.2 in /home/ec2-user/anaconda3/envs/python3/lib/python3.10/site-packages (from imbalanced-learn->imblearn) (1.10.0)\n",
      "Requirement already satisfied: numpy>=1.17.3 in /home/ec2-user/anaconda3/envs/python3/lib/python3.10/site-packages (from imbalanced-learn->imblearn) (1.22.3)\n",
      "Requirement already satisfied: threadpoolctl>=2.0.0 in /home/ec2-user/anaconda3/envs/python3/lib/python3.10/site-packages (from imbalanced-learn->imblearn) (3.1.0)\n",
      "Requirement already satisfied: joblib>=1.1.1 in /home/ec2-user/anaconda3/envs/python3/lib/python3.10/site-packages (from imbalanced-learn->imblearn) (1.2.0)\n",
      "Installing collected packages: imbalanced-learn, imblearn\n",
      "Successfully installed imbalanced-learn-0.10.1 imblearn-0.0\n"
     ]
    }
   ],
   "source": [
    "!pip install imblearn"
   ]
  },
  {
   "cell_type": "code",
   "execution_count": 2,
   "id": "68e003be-268e-4d88-9df8-19bb1aff2877",
   "metadata": {
    "tags": []
   },
   "outputs": [],
   "source": [
    "# Imports required libraries\n",
    "\n",
    "# for data wrangling\n",
    "import numpy as np\n",
    "import pandas as pd\n",
    "import re, datetime\n",
    "import string\n",
    "\n",
    "# for NLP / sentiment analysis\n",
    "# import nltk\n",
    "# from nltk.sentiment.vader import SentimentIntensityAnalyzer\n",
    "# from nltk.corpus import stopwords\n",
    "# from nltk.stem import WordNetLemmatizer\n",
    "# nltk.download('punkt')\n",
    "# nltk.download('stopwords')\n",
    "# nltk.download('wordnet')\n",
    "# nltk.download('omw-1.4')\n",
    "# nltk.download('vader_lexicon')\n",
    "\n",
    "# for visualization\n",
    "import seaborn as sns\n",
    "import matplotlib.pyplot as plt\n",
    "from collections import Counter\n",
    "\n",
    "# for model building\n",
    "from sklearn.model_selection import train_test_split\n",
    "from sklearn.preprocessing import MinMaxScaler\n",
    "from sklearn.preprocessing import StandardScaler\n",
    "from sklearn.linear_model import LinearRegression\n",
    "from sklearn.linear_model import LogisticRegression\n",
    "from sklearn.linear_model import Ridge\n",
    "from imblearn.under_sampling import RandomUnderSampler\n",
    "from imblearn.over_sampling import RandomOverSampler # for training set\n",
    "from sklearn.feature_extraction.text import CountVectorizer, TfidfTransformer\n",
    "from sklearn.feature_extraction.text import TfidfVectorizer\n",
    "from sklearn import metrics\n",
    "from sklearn.metrics import accuracy_score, mean_absolute_error, mean_squared_error, r2_score\n",
    "from sklearn.metrics import confusion_matrix\n",
    "from sklearn.metrics import make_scorer\n",
    "from sklearn.model_selection import GridSearchCV\n",
    "\n",
    "# for exporting cleaned data\n",
    "import os\n",
    "from os.path import join\n",
    "from joblib import dump, load\n",
    "\n",
    "# for local helper funtions\n",
    "import helper_module"
   ]
  },
  {
   "cell_type": "markdown",
   "id": "b8b42351-fb81-4df6-a93f-d19d6182f0ed",
   "metadata": {},
   "source": [
    "## Read in data"
   ]
  },
  {
   "cell_type": "code",
   "execution_count": 3,
   "id": "d741af55-ef16-4209-bfae-ad5f7743ee62",
   "metadata": {
    "tags": []
   },
   "outputs": [],
   "source": [
    "reviews_df = pd.read_csv(\"Reviews_cleanText_noSW_sageMakerLocal.csv\")"
   ]
  },
  {
   "cell_type": "code",
   "execution_count": 4,
   "id": "9f7539ac-64c2-4036-aa0e-e0280c4d5c10",
   "metadata": {
    "tags": []
   },
   "outputs": [],
   "source": [
    "# Ensure NAs have been removed\n",
    "assert(reviews_df.isna().sum().sum() == 0)"
   ]
  },
  {
   "cell_type": "code",
   "execution_count": 120,
   "id": "b264bc48-a176-48b8-bbd0-2a5467ad02a7",
   "metadata": {
    "tags": []
   },
   "outputs": [
    {
     "name": "stdout",
     "output_type": "stream",
     "text": [
      "315241 items in training data, 78811 in test data\n",
      "CPU times: user 193 ms, sys: 4.01 ms, total: 197 ms\n",
      "Wall time: 196 ms\n"
     ]
    }
   ],
   "source": [
    "%%time\n",
    "\n",
    "X_train, X_test, y_train, y_test = train_test_split(reviews_df[\"cleaned_text\"], \n",
    "                                                    reviews_df[\"Score_class\"], \n",
    "                                                    test_size=0.2,\n",
    "                                                    random_state=42)\n",
    "ros = RandomOverSampler(random_state=42)\n",
    "X_res_train, y_res_train = ros.fit_resample(X_train.array.reshape(-1, 1), y_train)\n",
    "\n",
    "X_res_train = pd.Series(X_res_train[:,0])\n",
    "\n",
    "print(\"%d items in training data, %d in test data\" % (len(X_train), len(X_test)))"
   ]
  },
  {
   "cell_type": "code",
   "execution_count": 5,
   "id": "92ce1c44-5e7d-4b34-9e55-0b357798b733",
   "metadata": {
    "tags": []
   },
   "outputs": [
    {
     "name": "stderr",
     "output_type": "stream",
     "text": [
      "/home/ec2-user/anaconda3/envs/python3/lib/python3.10/site-packages/sklearn/feature_extraction/text.py:1671: RuntimeWarning: divide by zero encountered in true_divide\n",
      "  idf = np.log(n_samples / df) + 1\n"
     ]
    }
   ],
   "source": [
    "count_vect = CountVectorizer(min_df = 1, ngram_range = (1, 2))\n",
    "count_vect = count_vect.fit(X_res_train)\n",
    "X_train_counts = count_vect.transform(X_res_train)\n",
    "\n",
    "tfidf_transformer = TfidfTransformer()\n",
    "tfidf_transformer = tfidf_transformer.fit(X_train_counts)\n",
    "X_train_tfidf = tfidf_transformer.transform(X_train_counts)\n"
   ]
  },
  {
   "cell_type": "code",
   "execution_count": 121,
   "id": "c49c7c3a-cbbb-4bd3-9e3a-6526c62b36eb",
   "metadata": {
    "tags": []
   },
   "outputs": [],
   "source": [
    "X_new_counts = count_vect.transform(X_test)\n",
    "X_test_tfidf = tfidf_transformer.transform(X_new_counts)"
   ]
  },
  {
   "cell_type": "markdown",
   "id": "8b3f13ff-83cb-46ba-8a83-b7ccc75540bf",
   "metadata": {},
   "source": [
    "## Cross validation hyperparameter tuning for Logistic Regression"
   ]
  },
  {
   "cell_type": "code",
   "execution_count": 6,
   "id": "3908815a-fda9-437a-acb9-44e443646687",
   "metadata": {
    "tags": []
   },
   "outputs": [
    {
     "name": "stdout",
     "output_type": "stream",
     "text": [
      "Fitting 5 folds for each of 6 candidates, totalling 30 fits\n",
      "[CV] END .............................................C=0.01; total time=  16.1s\n",
      "[CV] END .............................................C=0.01; total time=  14.9s\n",
      "[CV] END .............................................C=0.01; total time=  14.2s\n",
      "[CV] END .............................................C=0.01; total time=  13.6s\n",
      "[CV] END .............................................C=0.01; total time=  14.6s\n",
      "[CV] END ..............................................C=0.1; total time=  27.9s\n",
      "[CV] END ..............................................C=0.1; total time=  25.6s\n",
      "[CV] END ..............................................C=0.1; total time=  26.6s\n",
      "[CV] END ..............................................C=0.1; total time=  24.8s\n",
      "[CV] END ..............................................C=0.1; total time=  25.1s\n",
      "[CV] END ................................................C=1; total time= 1.5min\n",
      "[CV] END ................................................C=1; total time= 1.2min\n",
      "[CV] END ................................................C=1; total time= 2.6min\n",
      "[CV] END ................................................C=1; total time= 2.6min\n",
      "[CV] END ................................................C=1; total time= 1.6min\n",
      "[CV] END ...............................................C=10; total time= 5.3min\n",
      "[CV] END ...............................................C=10; total time= 5.4min\n",
      "[CV] END ...............................................C=10; total time= 6.6min\n"
     ]
    },
    {
     "name": "stderr",
     "output_type": "stream",
     "text": [
      "/home/ec2-user/anaconda3/envs/python3/lib/python3.10/site-packages/sklearn/linear_model/_logistic.py:458: ConvergenceWarning: lbfgs failed to converge (status=1):\n",
      "STOP: TOTAL NO. of ITERATIONS REACHED LIMIT.\n",
      "\n",
      "Increase the number of iterations (max_iter) or scale the data as shown in:\n",
      "    https://scikit-learn.org/stable/modules/preprocessing.html\n",
      "Please also refer to the documentation for alternative solver options:\n",
      "    https://scikit-learn.org/stable/modules/linear_model.html#logistic-regression\n",
      "  n_iter_i = _check_optimize_result(\n"
     ]
    },
    {
     "name": "stdout",
     "output_type": "stream",
     "text": [
      "[CV] END ...............................................C=10; total time= 6.8min\n",
      "[CV] END ...............................................C=10; total time= 4.4min\n",
      "[CV] END ...............................................C=25; total time= 5.8min\n",
      "[CV] END ...............................................C=25; total time= 6.2min\n",
      "[CV] END ...............................................C=25; total time= 7.0min\n"
     ]
    },
    {
     "name": "stderr",
     "output_type": "stream",
     "text": [
      "/home/ec2-user/anaconda3/envs/python3/lib/python3.10/site-packages/sklearn/linear_model/_logistic.py:458: ConvergenceWarning: lbfgs failed to converge (status=1):\n",
      "STOP: TOTAL NO. of ITERATIONS REACHED LIMIT.\n",
      "\n",
      "Increase the number of iterations (max_iter) or scale the data as shown in:\n",
      "    https://scikit-learn.org/stable/modules/preprocessing.html\n",
      "Please also refer to the documentation for alternative solver options:\n",
      "    https://scikit-learn.org/stable/modules/linear_model.html#logistic-regression\n",
      "  n_iter_i = _check_optimize_result(\n"
     ]
    },
    {
     "name": "stdout",
     "output_type": "stream",
     "text": [
      "[CV] END ...............................................C=25; total time= 6.9min\n",
      "[CV] END ...............................................C=25; total time= 5.9min\n"
     ]
    },
    {
     "name": "stderr",
     "output_type": "stream",
     "text": [
      "/home/ec2-user/anaconda3/envs/python3/lib/python3.10/site-packages/sklearn/linear_model/_logistic.py:458: ConvergenceWarning: lbfgs failed to converge (status=1):\n",
      "STOP: TOTAL NO. of ITERATIONS REACHED LIMIT.\n",
      "\n",
      "Increase the number of iterations (max_iter) or scale the data as shown in:\n",
      "    https://scikit-learn.org/stable/modules/preprocessing.html\n",
      "Please also refer to the documentation for alternative solver options:\n",
      "    https://scikit-learn.org/stable/modules/linear_model.html#logistic-regression\n",
      "  n_iter_i = _check_optimize_result(\n"
     ]
    },
    {
     "name": "stdout",
     "output_type": "stream",
     "text": [
      "[CV] END ..............................................C=100; total time= 7.0min\n"
     ]
    },
    {
     "name": "stderr",
     "output_type": "stream",
     "text": [
      "/home/ec2-user/anaconda3/envs/python3/lib/python3.10/site-packages/sklearn/linear_model/_logistic.py:458: ConvergenceWarning: lbfgs failed to converge (status=1):\n",
      "STOP: TOTAL NO. of ITERATIONS REACHED LIMIT.\n",
      "\n",
      "Increase the number of iterations (max_iter) or scale the data as shown in:\n",
      "    https://scikit-learn.org/stable/modules/preprocessing.html\n",
      "Please also refer to the documentation for alternative solver options:\n",
      "    https://scikit-learn.org/stable/modules/linear_model.html#logistic-regression\n",
      "  n_iter_i = _check_optimize_result(\n"
     ]
    },
    {
     "name": "stdout",
     "output_type": "stream",
     "text": [
      "[CV] END ..............................................C=100; total time= 6.9min\n"
     ]
    },
    {
     "name": "stderr",
     "output_type": "stream",
     "text": [
      "/home/ec2-user/anaconda3/envs/python3/lib/python3.10/site-packages/sklearn/linear_model/_logistic.py:458: ConvergenceWarning: lbfgs failed to converge (status=1):\n",
      "STOP: TOTAL NO. of ITERATIONS REACHED LIMIT.\n",
      "\n",
      "Increase the number of iterations (max_iter) or scale the data as shown in:\n",
      "    https://scikit-learn.org/stable/modules/preprocessing.html\n",
      "Please also refer to the documentation for alternative solver options:\n",
      "    https://scikit-learn.org/stable/modules/linear_model.html#logistic-regression\n",
      "  n_iter_i = _check_optimize_result(\n"
     ]
    },
    {
     "name": "stdout",
     "output_type": "stream",
     "text": [
      "[CV] END ..............................................C=100; total time= 6.9min\n"
     ]
    },
    {
     "name": "stderr",
     "output_type": "stream",
     "text": [
      "/home/ec2-user/anaconda3/envs/python3/lib/python3.10/site-packages/sklearn/linear_model/_logistic.py:458: ConvergenceWarning: lbfgs failed to converge (status=1):\n",
      "STOP: TOTAL NO. of ITERATIONS REACHED LIMIT.\n",
      "\n",
      "Increase the number of iterations (max_iter) or scale the data as shown in:\n",
      "    https://scikit-learn.org/stable/modules/preprocessing.html\n",
      "Please also refer to the documentation for alternative solver options:\n",
      "    https://scikit-learn.org/stable/modules/linear_model.html#logistic-regression\n",
      "  n_iter_i = _check_optimize_result(\n"
     ]
    },
    {
     "name": "stdout",
     "output_type": "stream",
     "text": [
      "[CV] END ..............................................C=100; total time= 6.4min\n",
      "[CV] END ..............................................C=100; total time= 5.7min\n"
     ]
    },
    {
     "name": "stderr",
     "output_type": "stream",
     "text": [
      "/home/ec2-user/anaconda3/envs/python3/lib/python3.10/site-packages/sklearn/linear_model/_logistic.py:458: ConvergenceWarning: lbfgs failed to converge (status=1):\n",
      "STOP: TOTAL NO. of ITERATIONS REACHED LIMIT.\n",
      "\n",
      "Increase the number of iterations (max_iter) or scale the data as shown in:\n",
      "    https://scikit-learn.org/stable/modules/preprocessing.html\n",
      "Please also refer to the documentation for alternative solver options:\n",
      "    https://scikit-learn.org/stable/modules/linear_model.html#logistic-regression\n",
      "  n_iter_i = _check_optimize_result(\n"
     ]
    },
    {
     "data": {
      "text/html": [
       "<style>#sk-container-id-1 {color: black;background-color: white;}#sk-container-id-1 pre{padding: 0;}#sk-container-id-1 div.sk-toggleable {background-color: white;}#sk-container-id-1 label.sk-toggleable__label {cursor: pointer;display: block;width: 100%;margin-bottom: 0;padding: 0.3em;box-sizing: border-box;text-align: center;}#sk-container-id-1 label.sk-toggleable__label-arrow:before {content: \"▸\";float: left;margin-right: 0.25em;color: #696969;}#sk-container-id-1 label.sk-toggleable__label-arrow:hover:before {color: black;}#sk-container-id-1 div.sk-estimator:hover label.sk-toggleable__label-arrow:before {color: black;}#sk-container-id-1 div.sk-toggleable__content {max-height: 0;max-width: 0;overflow: hidden;text-align: left;background-color: #f0f8ff;}#sk-container-id-1 div.sk-toggleable__content pre {margin: 0.2em;color: black;border-radius: 0.25em;background-color: #f0f8ff;}#sk-container-id-1 input.sk-toggleable__control:checked~div.sk-toggleable__content {max-height: 200px;max-width: 100%;overflow: auto;}#sk-container-id-1 input.sk-toggleable__control:checked~label.sk-toggleable__label-arrow:before {content: \"▾\";}#sk-container-id-1 div.sk-estimator input.sk-toggleable__control:checked~label.sk-toggleable__label {background-color: #d4ebff;}#sk-container-id-1 div.sk-label input.sk-toggleable__control:checked~label.sk-toggleable__label {background-color: #d4ebff;}#sk-container-id-1 input.sk-hidden--visually {border: 0;clip: rect(1px 1px 1px 1px);clip: rect(1px, 1px, 1px, 1px);height: 1px;margin: -1px;overflow: hidden;padding: 0;position: absolute;width: 1px;}#sk-container-id-1 div.sk-estimator {font-family: monospace;background-color: #f0f8ff;border: 1px dotted black;border-radius: 0.25em;box-sizing: border-box;margin-bottom: 0.5em;}#sk-container-id-1 div.sk-estimator:hover {background-color: #d4ebff;}#sk-container-id-1 div.sk-parallel-item::after {content: \"\";width: 100%;border-bottom: 1px solid gray;flex-grow: 1;}#sk-container-id-1 div.sk-label:hover label.sk-toggleable__label {background-color: #d4ebff;}#sk-container-id-1 div.sk-serial::before {content: \"\";position: absolute;border-left: 1px solid gray;box-sizing: border-box;top: 0;bottom: 0;left: 50%;z-index: 0;}#sk-container-id-1 div.sk-serial {display: flex;flex-direction: column;align-items: center;background-color: white;padding-right: 0.2em;padding-left: 0.2em;position: relative;}#sk-container-id-1 div.sk-item {position: relative;z-index: 1;}#sk-container-id-1 div.sk-parallel {display: flex;align-items: stretch;justify-content: center;background-color: white;position: relative;}#sk-container-id-1 div.sk-item::before, #sk-container-id-1 div.sk-parallel-item::before {content: \"\";position: absolute;border-left: 1px solid gray;box-sizing: border-box;top: 0;bottom: 0;left: 50%;z-index: -1;}#sk-container-id-1 div.sk-parallel-item {display: flex;flex-direction: column;z-index: 1;position: relative;background-color: white;}#sk-container-id-1 div.sk-parallel-item:first-child::after {align-self: flex-end;width: 50%;}#sk-container-id-1 div.sk-parallel-item:last-child::after {align-self: flex-start;width: 50%;}#sk-container-id-1 div.sk-parallel-item:only-child::after {width: 0;}#sk-container-id-1 div.sk-dashed-wrapped {border: 1px dashed gray;margin: 0 0.4em 0.5em 0.4em;box-sizing: border-box;padding-bottom: 0.4em;background-color: white;}#sk-container-id-1 div.sk-label label {font-family: monospace;font-weight: bold;display: inline-block;line-height: 1.2em;}#sk-container-id-1 div.sk-label-container {text-align: center;}#sk-container-id-1 div.sk-container {/* jupyter's `normalize.less` sets `[hidden] { display: none; }` but bootstrap.min.css set `[hidden] { display: none !important; }` so we also need the `!important` here to be able to override the default hidden behavior on the sphinx rendered scikit-learn.org. See: https://github.com/scikit-learn/scikit-learn/issues/21755 */display: inline-block !important;position: relative;}#sk-container-id-1 div.sk-text-repr-fallback {display: none;}</style><div id=\"sk-container-id-1\" class=\"sk-top-container\"><div class=\"sk-text-repr-fallback\"><pre>GridSearchCV(estimator=LogisticRegression(max_iter=500),\n",
       "             param_grid={&#x27;C&#x27;: [0.01, 0.1, 1, 10, 25, 100]}, refit=&#x27;roc_auc&#x27;,\n",
       "             return_train_score=True,\n",
       "             scoring=[&#x27;accuracy&#x27;, &#x27;f1&#x27;, &#x27;roc_auc&#x27;, &#x27;recall&#x27;], verbose=2)</pre><b>In a Jupyter environment, please rerun this cell to show the HTML representation or trust the notebook. <br />On GitHub, the HTML representation is unable to render, please try loading this page with nbviewer.org.</b></div><div class=\"sk-container\" hidden><div class=\"sk-item sk-dashed-wrapped\"><div class=\"sk-label-container\"><div class=\"sk-label sk-toggleable\"><input class=\"sk-toggleable__control sk-hidden--visually\" id=\"sk-estimator-id-1\" type=\"checkbox\" ><label for=\"sk-estimator-id-1\" class=\"sk-toggleable__label sk-toggleable__label-arrow\">GridSearchCV</label><div class=\"sk-toggleable__content\"><pre>GridSearchCV(estimator=LogisticRegression(max_iter=500),\n",
       "             param_grid={&#x27;C&#x27;: [0.01, 0.1, 1, 10, 25, 100]}, refit=&#x27;roc_auc&#x27;,\n",
       "             return_train_score=True,\n",
       "             scoring=[&#x27;accuracy&#x27;, &#x27;f1&#x27;, &#x27;roc_auc&#x27;, &#x27;recall&#x27;], verbose=2)</pre></div></div></div><div class=\"sk-parallel\"><div class=\"sk-parallel-item\"><div class=\"sk-item\"><div class=\"sk-label-container\"><div class=\"sk-label sk-toggleable\"><input class=\"sk-toggleable__control sk-hidden--visually\" id=\"sk-estimator-id-2\" type=\"checkbox\" ><label for=\"sk-estimator-id-2\" class=\"sk-toggleable__label sk-toggleable__label-arrow\">estimator: LogisticRegression</label><div class=\"sk-toggleable__content\"><pre>LogisticRegression(max_iter=500)</pre></div></div></div><div class=\"sk-serial\"><div class=\"sk-item\"><div class=\"sk-estimator sk-toggleable\"><input class=\"sk-toggleable__control sk-hidden--visually\" id=\"sk-estimator-id-3\" type=\"checkbox\" ><label for=\"sk-estimator-id-3\" class=\"sk-toggleable__label sk-toggleable__label-arrow\">LogisticRegression</label><div class=\"sk-toggleable__content\"><pre>LogisticRegression(max_iter=500)</pre></div></div></div></div></div></div></div></div></div></div>"
      ],
      "text/plain": [
       "GridSearchCV(estimator=LogisticRegression(max_iter=500),\n",
       "             param_grid={'C': [0.01, 0.1, 1, 10, 25, 100]}, refit='roc_auc',\n",
       "             return_train_score=True,\n",
       "             scoring=['accuracy', 'f1', 'roc_auc', 'recall'], verbose=2)"
      ]
     },
     "execution_count": 6,
     "metadata": {},
     "output_type": "execute_result"
    }
   ],
   "source": [
    "param_dict = {'C': [0.01, 0.1, 1, 10, 25, 100]}\n",
    "clf = LogisticRegression(penalty='l2', max_iter=500)\n",
    "clf_cv = GridSearchCV(clf, param_grid=param_dict,\n",
    "                      scoring=['accuracy', 'f1', 'roc_auc', 'recall'],\n",
    "                      refit='roc_auc',\n",
    "                      verbose = 2,\n",
    "                      return_train_score=True)\n",
    "clf_cv.fit(X_train_tfidf, y_res_train)"
   ]
  },
  {
   "cell_type": "code",
   "execution_count": 8,
   "id": "73d053a6-f2bb-44b5-9b43-9a160b83b90c",
   "metadata": {
    "tags": []
   },
   "outputs": [],
   "source": [
    "clf_cv_results = pd.DataFrame(clf_cv.cv_results_)"
   ]
  },
  {
   "cell_type": "code",
   "execution_count": 9,
   "id": "740fdbcb-ba34-4414-b2d0-02ac6b7268c1",
   "metadata": {
    "tags": []
   },
   "outputs": [],
   "source": [
    "results_iteration = 2"
   ]
  },
  {
   "cell_type": "code",
   "execution_count": 10,
   "id": "66a71652-57fb-472f-af2f-1b0a4d967dd5",
   "metadata": {
    "tags": []
   },
   "outputs": [],
   "source": [
    "clf_cv_results.to_csv(f'st-logreg-cvResults0{results_iteration}.csv', index=False, header=True)"
   ]
  },
  {
   "cell_type": "code",
   "execution_count": 94,
   "id": "a3b7bab4-3a3f-4e70-b9cd-d67923e6e649",
   "metadata": {
    "tags": []
   },
   "outputs": [
    {
     "name": "stdout",
     "output_type": "stream",
     "text": [
      "['mean_test_roc_auc', 'std_test_roc_auc', 'mean_train_roc_auc', 'std_train_roc_auc']\n",
      "0 C\n",
      "         mean_train_roc_auc  std_train_roc_auc\n",
      "param_C                                       \n",
      "0.01               0.900636                0.0\n",
      "0.10               0.938598                0.0\n",
      "1.00               0.983964                0.0\n",
      "10.00              0.999919                0.0\n",
      "25.00              0.999997                0.0\n",
      "100.00             1.000000                0.0\n"
     ]
    },
    {
     "data": {
      "image/png": "[encoded data removed]",
      "text/plain": [
       "<Figure size 300x400 with 1 Axes>"
      ]
     },
     "metadata": {},
     "output_type": "display_data"
    }
   ],
   "source": [
    "metric = 'roc_auc'\n",
    "p1 = helper_module.metric_cv_plot_singleParam(clf_cv_results, metric, param_dict)\n",
    "p1.savefig(f'logreg_cv_{metric}_scores.png', bbox_inches = \"tight\")"
   ]
  },
  {
   "cell_type": "code",
   "execution_count": 97,
   "id": "c45e51c7-3ec3-439d-bb5b-fc58d80d6784",
   "metadata": {
    "tags": []
   },
   "outputs": [
    {
     "name": "stdout",
     "output_type": "stream",
     "text": [
      "['mean_test_accuracy', 'std_test_accuracy', 'mean_train_accuracy', 'std_train_accuracy']\n",
      "0 C\n",
      "         mean_train_accuracy  std_train_accuracy\n",
      "param_C                                         \n",
      "0.01                0.822462                 0.0\n",
      "0.10                0.867705                 0.0\n",
      "1.00                0.942146                 0.0\n",
      "10.00               0.997076                 0.0\n",
      "25.00               0.999750                 0.0\n",
      "100.00              0.999899                 0.0\n"
     ]
    },
    {
     "data": {
      "image/png": "[encoded data removed]",
      "text/plain": [
       "<Figure size 300x400 with 1 Axes>"
      ]
     },
     "metadata": {},
     "output_type": "display_data"
    }
   ],
   "source": [
    "metric = 'accuracy'\n",
    "p1 = helper_module.metric_cv_plot_singleParam(clf_cv_results, metric, param_dict)\n",
    "p1.savefig(f'logreg_cv_{metric}_scores.png', bbox_inches = \"tight\")"
   ]
  },
  {
   "cell_type": "code",
   "execution_count": 98,
   "id": "f94a05c7-2dbf-4f36-8dea-bf7e783e4f2c",
   "metadata": {
    "tags": []
   },
   "outputs": [
    {
     "name": "stdout",
     "output_type": "stream",
     "text": [
      "['mean_test_recall', 'std_test_recall', 'mean_train_recall', 'std_train_recall']\n",
      "0 C\n",
      "         mean_train_recall  std_train_recall\n",
      "param_C                                     \n",
      "0.01              0.807093               0.0\n",
      "0.10              0.856664               0.0\n",
      "1.00              0.928982               0.0\n",
      "10.00             0.995514               0.0\n",
      "25.00             0.999626               0.0\n",
      "100.00            0.999831               0.0\n"
     ]
    },
    {
     "data": {
      "image/png": "[encoded data removed]",
      "text/plain": [
       "<Figure size 300x400 with 1 Axes>"
      ]
     },
     "metadata": {},
     "output_type": "display_data"
    }
   ],
   "source": [
    "metric = 'recall'\n",
    "p1 = helper_module.metric_cv_plot_singleParam(clf_cv_results, metric, param_dict)\n",
    "p1.savefig(f'logreg_cv_{metric}_scores.png', bbox_inches = \"tight\")"
   ]
  },
  {
   "cell_type": "code",
   "execution_count": 101,
   "id": "b6f35b78-82e3-4560-b1c8-78daad2250cd",
   "metadata": {
    "tags": []
   },
   "outputs": [
    {
     "name": "stdout",
     "output_type": "stream",
     "text": [
      "['mean_test_f1', 'std_test_f1', 'mean_train_f1', 'std_train_f1']\n",
      "0 C\n",
      "         mean_train_f1  std_train_f1\n",
      "param_C                             \n",
      "0.01          0.819691           0.0\n",
      "0.10          0.866228           0.0\n",
      "1.00          0.941374           0.0\n",
      "10.00         0.997072           0.0\n",
      "25.00         0.999750           0.0\n",
      "100.00        0.999899           0.0\n"
     ]
    },
    {
     "data": {
      "image/png": "[encoded data removed]",
      "text/plain": [
       "<Figure size 300x400 with 1 Axes>"
      ]
     },
     "metadata": {},
     "output_type": "display_data"
    }
   ],
   "source": [
    "metric = 'f1'\n",
    "p1 = helper_module.metric_cv_plot_singleParam(clf_cv_results, metric, param_dict)\n",
    "p1.savefig(f'logreg_cv_{metric}_scores.png', bbox_inches = \"tight\")"
   ]
  },
  {
   "cell_type": "markdown",
   "id": "572c405e-37b3-4e85-921b-939bf5b24c9f",
   "metadata": {},
   "source": [
    "## Refit training data with best params"
   ]
  },
  {
   "cell_type": "code",
   "execution_count": 122,
   "id": "2195fc7e-ae81-43e6-af5e-26320819bf01",
   "metadata": {
    "tags": []
   },
   "outputs": [],
   "source": [
    "clf = LogisticRegression(penalty='l2', C=10, max_iter=1000)\n",
    "clf.fit(X_train_tfidf, y_res_train)\n",
    "y_pred = clf.predict(X_test_tfidf)"
   ]
  },
  {
   "cell_type": "code",
   "execution_count": 123,
   "id": "2fe4642a-96c8-4d93-b5ba-525f9fe5f2b9",
   "metadata": {
    "tags": []
   },
   "outputs": [
    {
     "name": "stdout",
     "output_type": "stream",
     "text": [
      "AUC Score: 0.8565338283249914\n",
      "Accuracy Score: 0.8954841329256068\n",
      "F1 Score: 0.9325284032732365\n",
      "Recall: 0.9261181523843613\n",
      "[[13652  3696]\n",
      " [ 4541 56922]]\n"
     ]
    }
   ],
   "source": [
    "auc, acc, f1, recall, cm = helper_module.model_eval(y_test, y_pred)"
   ]
  },
  {
   "cell_type": "code",
   "execution_count": 124,
   "id": "6193411e-affc-4d11-914b-80874cbef109",
   "metadata": {
    "tags": []
   },
   "outputs": [
    {
     "name": "stdout",
     "output_type": "stream",
     "text": [
      "LogisticRegression_best_noSW saved successfully!\n"
     ]
    }
   ],
   "source": [
    "name='LogisticRegression_best_noSW'\n",
    "helper_module.add_model_scores_to_results(file_path = 'Model_results.csv', \n",
    "                            model_name = name,\n",
    "                            datashift = 'none', with_sw = 0,\n",
    "                            ROC_AUC = auc, accuracy = acc, \n",
    "                            f1 = f1, recall=recall, cm = cm, first_entry=False)"
   ]
  },
  {
   "cell_type": "markdown",
   "id": "69d863dd-2a33-4cc0-bf10-ded30f97fe59",
   "metadata": {},
   "source": [
    "## Test data from shifted distributions"
   ]
  },
  {
   "cell_type": "markdown",
   "id": "efad20ff-d751-49b3-90c5-2f07aaae998e",
   "metadata": {
    "tags": []
   },
   "source": [
    "### 1. Review summaries: no stopwords"
   ]
  },
  {
   "cell_type": "code",
   "execution_count": 125,
   "id": "7017bfa9-9444-45a6-8a11-46254302e871",
   "metadata": {
    "tags": []
   },
   "outputs": [
    {
     "data": {
      "text/plain": [
       "Index(['Text', 'Summary', 'Score', 'cleaned_text', 'cleaned_summary',\n",
       "       'Score_class', 'tokenized_reviews'],\n",
       "      dtype='object')"
      ]
     },
     "execution_count": 125,
     "metadata": {},
     "output_type": "execute_result"
    }
   ],
   "source": [
    "reviews_df.columns"
   ]
  },
  {
   "cell_type": "markdown",
   "id": "3c63c1de-29a7-4ad3-9d22-93e39e553602",
   "metadata": {},
   "source": [
    "Make the same train test split so that shifted distribution test sammples are completely unseen to training."
   ]
  },
  {
   "cell_type": "code",
   "execution_count": 127,
   "id": "715d64c8-8d41-4962-ac1f-6b2fd96600dd",
   "metadata": {
    "tags": []
   },
   "outputs": [
    {
     "name": "stdout",
     "output_type": "stream",
     "text": [
      "CPU times: user 55.9 ms, sys: 0 ns, total: 55.9 ms\n",
      "Wall time: 55 ms\n"
     ]
    }
   ],
   "source": [
    "%%time\n",
    "\n",
    "X_train, X_test, y_train, y_test = train_test_split(reviews_df[\"cleaned_summary\"], \n",
    "                                                    reviews_df[\"Score_class\"], \n",
    "                                                    test_size=0.2,\n",
    "                                                    random_state=42)"
   ]
  },
  {
   "cell_type": "code",
   "execution_count": 128,
   "id": "16c336ea-7a53-4f74-a682-553a5c0f8fdd",
   "metadata": {
    "tags": []
   },
   "outputs": [],
   "source": [
    "X_new_counts = count_vect.transform(X_test)\n",
    "X_test_tfidf = tfidf_transformer.transform(X_new_counts)"
   ]
  },
  {
   "cell_type": "code",
   "execution_count": 129,
   "id": "e91404f2-373c-4f4b-9c93-cdb6e409c4a9",
   "metadata": {
    "tags": []
   },
   "outputs": [],
   "source": [
    "y_pred = clf.predict(X_test_tfidf)"
   ]
  },
  {
   "cell_type": "code",
   "execution_count": 130,
   "id": "009d0a06-077f-4831-ac4c-c3d1ac9c61a2",
   "metadata": {
    "tags": []
   },
   "outputs": [
    {
     "name": "stdout",
     "output_type": "stream",
     "text": [
      "AUC Score: 0.7697835551805743\n",
      "Accuracy Score: 0.847229447665935\n",
      "F1 Score: 0.9026472823713958\n",
      "Recall: 0.908139856499032\n",
      "[[10954  6394]\n",
      " [ 5646 55817]]\n"
     ]
    }
   ],
   "source": [
    "auc, acc, f1, recall, cm = helper_module.model_eval(y_test, y_pred)"
   ]
  },
  {
   "cell_type": "code",
   "execution_count": 131,
   "id": "b768e0e8-9185-4672-8771-f869b61e727d",
   "metadata": {
    "tags": []
   },
   "outputs": [
    {
     "name": "stdout",
     "output_type": "stream",
     "text": [
      "LogisticRegression_best_noSW_Summary saved successfully!\n"
     ]
    }
   ],
   "source": [
    "name='LogisticRegression_best_noSW_Summary'\n",
    "helper_module.add_model_scores_to_results(file_path = 'Model_results.csv', \n",
    "                            model_name = name,\n",
    "                            datashift = 'summary', with_sw = 0,\n",
    "                            ROC_AUC = auc, accuracy = acc, \n",
    "                            f1 = f1, recall=recall, cm = cm, first_entry=False)"
   ]
  },
  {
   "cell_type": "markdown",
   "id": "cc824cad-e3fe-44ee-8314-1b075c4bc93f",
   "metadata": {},
   "source": [
    "### 2. Random Dropout on cleaned summary text"
   ]
  },
  {
   "cell_type": "code",
   "execution_count": 132,
   "id": "ca30a697-fcb0-4a9f-8f2f-5b09633272a8",
   "metadata": {
    "tags": []
   },
   "outputs": [
    {
     "name": "stdout",
     "output_type": "stream",
     "text": [
      "CPU times: user 57.2 ms, sys: 0 ns, total: 57.2 ms\n",
      "Wall time: 56 ms\n"
     ]
    }
   ],
   "source": [
    "%%time\n",
    "\n",
    "X_train, X_test, y_train, y_test = train_test_split(reviews_df[\"cleaned_text\"], \n",
    "                                                    reviews_df[\"Score_class\"], \n",
    "                                                    test_size=0.2,\n",
    "                                                    random_state=42)"
   ]
  },
  {
   "cell_type": "code",
   "execution_count": 172,
   "id": "0995dca4-2764-4a26-81d6-c05883212af1",
   "metadata": {
    "tags": []
   },
   "outputs": [],
   "source": [
    "def get_wordcount(sentence):\n",
    "    return len(sentence.split())"
   ]
  },
  {
   "cell_type": "code",
   "execution_count": 174,
   "id": "034e8df4-1210-4a31-8d13-fc1d5c4d48ca",
   "metadata": {
    "tags": []
   },
   "outputs": [
    {
     "data": {
      "text/plain": [
       "39.721764728273975"
      ]
     },
     "execution_count": 174,
     "metadata": {},
     "output_type": "execute_result"
    }
   ],
   "source": [
    "X_test.apply(helper_module.get_wordcount).mean()"
   ]
  },
  {
   "cell_type": "code",
   "execution_count": 166,
   "id": "41841873-f082-4847-b7f3-d3f2d6039288",
   "metadata": {
    "tags": []
   },
   "outputs": [],
   "source": [
    "X_test_dropout = X_test.apply(helper_module.random_dropout, p=0.5, random_state=42)"
   ]
  },
  {
   "cell_type": "code",
   "execution_count": 175,
   "id": "c66ad07e-6471-4216-906b-69c8df129fd9",
   "metadata": {
    "tags": []
   },
   "outputs": [
    {
     "data": {
      "text/plain": [
       "20.83643146261309"
      ]
     },
     "execution_count": 175,
     "metadata": {},
     "output_type": "execute_result"
    }
   ],
   "source": [
    "X_test_dropout.apply(helper_module.get_wordcount).mean()"
   ]
  },
  {
   "cell_type": "code",
   "execution_count": 167,
   "id": "01f0cd68-eb7f-4524-9f19-8a76593034d3",
   "metadata": {
    "tags": []
   },
   "outputs": [],
   "source": [
    "X_new_counts = count_vect.transform(X_test_dropout)\n",
    "X_test_tfidf = tfidf_transformer.transform(X_new_counts)"
   ]
  },
  {
   "cell_type": "code",
   "execution_count": 168,
   "id": "cab9d535-c377-4e15-922a-6b0bf3236ac4",
   "metadata": {
    "tags": []
   },
   "outputs": [],
   "source": [
    "y_pred = clf.predict(X_test_tfidf)"
   ]
  },
  {
   "cell_type": "code",
   "execution_count": 169,
   "id": "e4b3443c-9b2a-42a7-8795-1a5a24c710b9",
   "metadata": {
    "tags": []
   },
   "outputs": [
    {
     "name": "stdout",
     "output_type": "stream",
     "text": [
      "AUC Score: 0.7940382805687668\n",
      "Accuracy Score: 0.8452119627970714\n",
      "F1 Score: 0.8992192986079557\n",
      "Recall: 0.8854595447667702\n",
      "[[12189  5159]\n",
      " [ 7040 54423]]\n"
     ]
    }
   ],
   "source": [
    "auc, acc, f1, recall, cm = helper_module.model_eval(y_test, y_pred)"
   ]
  },
  {
   "cell_type": "code",
   "execution_count": 176,
   "id": "a4b3136c-9084-4bdd-b6ed-79eebff1800e",
   "metadata": {
    "tags": []
   },
   "outputs": [
    {
     "name": "stdout",
     "output_type": "stream",
     "text": [
      "LogisticRegression_best_noSW_Droppout0.5 saved successfully!\n"
     ]
    }
   ],
   "source": [
    "name='LogisticRegression_best_noSW_Droppout0.5'\n",
    "helper_module.add_model_scores_to_results(file_path = 'Model_results.csv', \n",
    "                            model_name = name,\n",
    "                            datashift = 'dropout_0.5', with_sw = 0,\n",
    "                            ROC_AUC = auc, accuracy = acc, \n",
    "                            f1 = f1, recall=recall, cm = cm, first_entry=False)"
   ]
  },
  {
   "cell_type": "markdown",
   "id": "c507ff46-d09c-4e24-bfc4-58ccfd9ccd44",
   "metadata": {},
   "source": [
    "### 3. Cleaned reviews: with Stopwords"
   ]
  },
  {
   "cell_type": "code",
   "execution_count": 177,
   "id": "97a7bc6c-3f54-4fa6-83d7-1d7ee4a43eda",
   "metadata": {
    "tags": []
   },
   "outputs": [
    {
     "data": {
      "text/html": [
       "<div>\n",
       "<style scoped>\n",
       "    .dataframe tbody tr th:only-of-type {\n",
       "        vertical-align: middle;\n",
       "    }\n",
       "\n",
       "    .dataframe tbody tr th {\n",
       "        vertical-align: top;\n",
       "    }\n",
       "\n",
       "    .dataframe thead th {\n",
       "        text-align: right;\n",
       "    }\n",
       "</style>\n",
       "<table border=\"1\" class=\"dataframe\">\n",
       "  <thead>\n",
       "    <tr style=\"text-align: right;\">\n",
       "      <th></th>\n",
       "      <th>Unnamed: 0</th>\n",
       "      <th>Text</th>\n",
       "      <th>Summary</th>\n",
       "      <th>Score</th>\n",
       "      <th>cleaned_text</th>\n",
       "      <th>cleaned_summary</th>\n",
       "      <th>Score_class</th>\n",
       "    </tr>\n",
       "  </thead>\n",
       "  <tbody>\n",
       "    <tr>\n",
       "      <th>0</th>\n",
       "      <td>0</td>\n",
       "      <td>I have bought several of the Vitality canned d...</td>\n",
       "      <td>Good Quality Dog Food</td>\n",
       "      <td>5</td>\n",
       "      <td>i have buy several of the vitality can dog foo...</td>\n",
       "      <td>good quality dog food</td>\n",
       "      <td>1</td>\n",
       "    </tr>\n",
       "    <tr>\n",
       "      <th>1</th>\n",
       "      <td>1</td>\n",
       "      <td>Product arrived labeled as Jumbo Salted Peanut...</td>\n",
       "      <td>Not as Advertised</td>\n",
       "      <td>1</td>\n",
       "      <td>product arrive label as jumbo salt peanutsthe ...</td>\n",
       "      <td>not as advertise</td>\n",
       "      <td>-1</td>\n",
       "    </tr>\n",
       "    <tr>\n",
       "      <th>2</th>\n",
       "      <td>2</td>\n",
       "      <td>This is a confection that has been around a fe...</td>\n",
       "      <td>\"Delight\" says it all</td>\n",
       "      <td>4</td>\n",
       "      <td>this be a confection that have be around a few...</td>\n",
       "      <td>delight say it all</td>\n",
       "      <td>1</td>\n",
       "    </tr>\n",
       "    <tr>\n",
       "      <th>3</th>\n",
       "      <td>3</td>\n",
       "      <td>If you are looking for the secret ingredient i...</td>\n",
       "      <td>Cough Medicine</td>\n",
       "      <td>2</td>\n",
       "      <td>if you be look for the secret ingredient in ro...</td>\n",
       "      <td>cough medicine</td>\n",
       "      <td>-1</td>\n",
       "    </tr>\n",
       "    <tr>\n",
       "      <th>4</th>\n",
       "      <td>4</td>\n",
       "      <td>Great taffy at a great price.  There was a wid...</td>\n",
       "      <td>Great taffy</td>\n",
       "      <td>5</td>\n",
       "      <td>great taffy at a great price there be a wide a...</td>\n",
       "      <td>great taffy</td>\n",
       "      <td>1</td>\n",
       "    </tr>\n",
       "  </tbody>\n",
       "</table>\n",
       "</div>"
      ],
      "text/plain": [
       "   Unnamed: 0                                               Text  \\\n",
       "0           0  I have bought several of the Vitality canned d...   \n",
       "1           1  Product arrived labeled as Jumbo Salted Peanut...   \n",
       "2           2  This is a confection that has been around a fe...   \n",
       "3           3  If you are looking for the secret ingredient i...   \n",
       "4           4  Great taffy at a great price.  There was a wid...   \n",
       "\n",
       "                 Summary  Score  \\\n",
       "0  Good Quality Dog Food      5   \n",
       "1      Not as Advertised      1   \n",
       "2  \"Delight\" says it all      4   \n",
       "3         Cough Medicine      2   \n",
       "4            Great taffy      5   \n",
       "\n",
       "                                        cleaned_text        cleaned_summary  \\\n",
       "0  i have buy several of the vitality can dog foo...  good quality dog food   \n",
       "1  product arrive label as jumbo salt peanutsthe ...       not as advertise   \n",
       "2  this be a confection that have be around a few...     delight say it all   \n",
       "3  if you be look for the secret ingredient in ro...         cough medicine   \n",
       "4  great taffy at a great price there be a wide a...            great taffy   \n",
       "\n",
       "   Score_class  \n",
       "0            1  \n",
       "1           -1  \n",
       "2            1  \n",
       "3           -1  \n",
       "4            1  "
      ]
     },
     "execution_count": 177,
     "metadata": {},
     "output_type": "execute_result"
    }
   ],
   "source": [
    "reviews_sw_df = pd.read_csv('Reviews_cleanText_SW_sageMakerLocal.csv')\n",
    "reviews_sw_df.head()"
   ]
  },
  {
   "cell_type": "code",
   "execution_count": 179,
   "id": "13ae8c57-916b-4f01-827d-bef6616d5fc2",
   "metadata": {
    "tags": []
   },
   "outputs": [],
   "source": [
    "reviews_sw_df.dropna(inplace=True)"
   ]
  },
  {
   "cell_type": "code",
   "execution_count": 180,
   "id": "4624045c-eed1-45da-9172-6b0a95dea6cf",
   "metadata": {
    "tags": []
   },
   "outputs": [],
   "source": [
    "X_train, X_test, y_train, y_test = train_test_split(reviews_sw_df[\"cleaned_text\"], \n",
    "                                                    reviews_sw_df[\"Score_class\"], \n",
    "                                                    test_size=0.2,\n",
    "                                                    random_state=42)"
   ]
  },
  {
   "cell_type": "code",
   "execution_count": 181,
   "id": "ffc5d74f-c44f-4ff7-a47f-aedfba8a565d",
   "metadata": {
    "tags": []
   },
   "outputs": [
    {
     "data": {
      "text/plain": [
       "80.25521380725058"
      ]
     },
     "execution_count": 181,
     "metadata": {},
     "output_type": "execute_result"
    }
   ],
   "source": [
    "X_test.apply(helper_module.get_wordcount).mean()"
   ]
  },
  {
   "cell_type": "code",
   "execution_count": 182,
   "id": "52e7f351-d5ea-4343-b808-041daac6faf5",
   "metadata": {
    "tags": []
   },
   "outputs": [],
   "source": [
    "X_new_counts = count_vect.transform(X_test)\n",
    "X_test_tfidf = tfidf_transformer.transform(X_new_counts)"
   ]
  },
  {
   "cell_type": "code",
   "execution_count": 183,
   "id": "06dd064f-bc4e-43f9-b175-fdc81b4bf0fc",
   "metadata": {
    "tags": []
   },
   "outputs": [],
   "source": [
    "y_pred = clf.predict(X_test_tfidf)"
   ]
  },
  {
   "cell_type": "code",
   "execution_count": 184,
   "id": "107afc9e-11fb-48be-b72a-13731493c1e9",
   "metadata": {
    "tags": []
   },
   "outputs": [
    {
     "name": "stdout",
     "output_type": "stream",
     "text": [
      "AUC Score: 0.9217191274173085\n",
      "Accuracy Score: 0.9273802438808201\n",
      "F1 Score: 0.9524030840477712\n",
      "Recall: 0.9318392204628502\n",
      "[[15860  1538]\n",
      " [ 4197 57378]]\n"
     ]
    }
   ],
   "source": [
    "auc, acc, f1, recall, cm = helper_module.model_eval(y_test, y_pred)"
   ]
  },
  {
   "cell_type": "code",
   "execution_count": 185,
   "id": "5809b169-2b17-4242-a598-482163df4615",
   "metadata": {
    "tags": []
   },
   "outputs": [
    {
     "name": "stdout",
     "output_type": "stream",
     "text": [
      "LogisticRegression_best_SW saved successfully!\n"
     ]
    }
   ],
   "source": [
    "name='LogisticRegression_best_SW'\n",
    "helper_module.add_model_scores_to_results(file_path = 'Model_results.csv', \n",
    "                            model_name = name,\n",
    "                            datashift = 'stopwords', with_sw = 1,\n",
    "                            ROC_AUC = auc, accuracy = acc, \n",
    "                            f1 = f1, recall=recall, cm = cm, first_entry=False)"
   ]
  },
  {
   "cell_type": "markdown",
   "id": "d1202891-c1d6-40a1-adb6-03e157394117",
   "metadata": {},
   "source": [
    "### 4. Summary with Stopwords"
   ]
  },
  {
   "cell_type": "code",
   "execution_count": 186,
   "id": "8368a609-73c9-471c-a463-972c247880a1",
   "metadata": {
    "tags": []
   },
   "outputs": [],
   "source": [
    "X_train, X_test, y_train, y_test = train_test_split(reviews_sw_df[\"cleaned_summary\"], \n",
    "                                                    reviews_sw_df[\"Score_class\"], \n",
    "                                                    test_size=0.2,\n",
    "                                                    random_state=42)"
   ]
  },
  {
   "cell_type": "code",
   "execution_count": 187,
   "id": "46a71230-0595-4df9-b1d7-238e93464997",
   "metadata": {
    "tags": []
   },
   "outputs": [
    {
     "data": {
      "text/plain": [
       "4.083788130120421"
      ]
     },
     "execution_count": 187,
     "metadata": {},
     "output_type": "execute_result"
    }
   ],
   "source": [
    "X_test.apply(get_wordcount).mean()"
   ]
  },
  {
   "cell_type": "code",
   "execution_count": 188,
   "id": "dc67dd4a-a5b7-4f39-b8d6-8c1b15b7fa54",
   "metadata": {
    "tags": []
   },
   "outputs": [],
   "source": [
    "X_new_counts = count_vect.transform(X_test)\n",
    "X_test_tfidf = tfidf_transformer.transform(X_new_counts)"
   ]
  },
  {
   "cell_type": "code",
   "execution_count": 189,
   "id": "7f762247-5105-4c26-afdc-49c9182511b9",
   "metadata": {
    "tags": []
   },
   "outputs": [],
   "source": [
    "y_pred = clf.predict(X_test_tfidf)"
   ]
  },
  {
   "cell_type": "code",
   "execution_count": 190,
   "id": "54d053d7-e1a1-497a-b6c9-2f7aac804d65",
   "metadata": {
    "tags": []
   },
   "outputs": [
    {
     "name": "stdout",
     "output_type": "stream",
     "text": [
      "AUC Score: 0.7700464326918262\n",
      "Accuracy Score: 0.8462892380940321\n",
      "F1 Score: 0.9019110338976203\n",
      "Recall: 0.9063418595209095\n",
      "[[11026  6372]\n",
      " [ 5767 55808]]\n"
     ]
    }
   ],
   "source": [
    "auc, acc, f1, recall, cm = helper_module.model_eval(y_test, y_pred)"
   ]
  },
  {
   "cell_type": "code",
   "execution_count": 191,
   "id": "8c679b78-064a-496a-8e10-43d672f8bd4b",
   "metadata": {
    "tags": []
   },
   "outputs": [
    {
     "name": "stdout",
     "output_type": "stream",
     "text": [
      "LogisticRegression_best_Summary+SW saved successfully!\n"
     ]
    }
   ],
   "source": [
    "name='LogisticRegression_best_Summary+SW'\n",
    "helper_module.add_model_scores_to_results(file_path = 'Model_results.csv', \n",
    "                            model_name = name,\n",
    "                            datashift = 'summary+stopwords', with_sw = 1,\n",
    "                            ROC_AUC = auc, accuracy = acc, \n",
    "                            f1 = f1, recall=recall, cm = cm, first_entry=False)"
   ]
  },
  {
   "cell_type": "markdown",
   "id": "4384459a-faf1-4cbc-83bf-f5d68b24c364",
   "metadata": {},
   "source": [
    "### 5. Dropout on review text with Stopwords"
   ]
  },
  {
   "cell_type": "code",
   "execution_count": 192,
   "id": "2034854f-44f2-40b8-8b26-5619fbd9b8e8",
   "metadata": {
    "tags": []
   },
   "outputs": [],
   "source": [
    "X_train, X_test, y_train, y_test = train_test_split(reviews_sw_df[\"cleaned_text\"], \n",
    "                                                    reviews_sw_df[\"Score_class\"], \n",
    "                                                    test_size=0.2,\n",
    "                                                    random_state=42)"
   ]
  },
  {
   "cell_type": "code",
   "execution_count": 193,
   "id": "45932921-a8a2-4d84-ac83-985d5320bb1d",
   "metadata": {
    "tags": []
   },
   "outputs": [
    {
     "name": "stdout",
     "output_type": "stream",
     "text": [
      "AUC Score: 0.6212573348461005\n",
      "Accuracy Score: 0.6842971648538108\n",
      "F1 Score: 0.7837978459563988\n",
      "Recall: 0.733950466910272\n",
      "[[ 8848  8550]\n",
      " [16382 45193]]\n",
      "LogisticRegression_best_SW+Dropout0.1 saved successfully!\n",
      "AUC Score: 0.7600446973875268\n",
      "Accuracy Score: 0.7947779620883086\n",
      "F1 Score: 0.8620128902624878\n",
      "Recall: 0.8221356069833536\n",
      "[[12143  5255]\n",
      " [10952 50623]]\n",
      "LogisticRegression_best_SW+Dropout0.25 saved successfully!\n",
      "AUC Score: 0.8361112815455616\n",
      "Accuracy Score: 0.8571283856507921\n",
      "F1 Score: 0.9050867703592789\n",
      "Recall: 0.8736825010150223\n",
      "[[13893  3505]\n",
      " [ 7778 53797]]\n",
      "LogisticRegression_best_SW+Dropout0.5 saved successfully!\n"
     ]
    }
   ],
   "source": [
    "for i in [0.1, 0.25, 0.5]:\n",
    "    X_test_dropout = X_test.apply(helper_module.random_dropout, p=i, random_state=42)\n",
    "    X_new_counts = count_vect.transform(X_test_dropout)\n",
    "    X_test_tfidf = tfidf_transformer.transform(X_new_counts)\n",
    "    y_pred = clf.predict(X_test_tfidf)\n",
    "    auc, acc, f1, recall, cm = helper_module.model_eval(y_test, y_pred)\n",
    "    name=f'LogisticRegression_best_SW+Dropout{i}'\n",
    "    helper_module.add_model_scores_to_results(file_path = 'Model_results.csv', \n",
    "                                model_name = name,\n",
    "                                datashift = f'dropout_{i}', with_sw = 1,\n",
    "                                ROC_AUC = auc, accuracy = acc, \n",
    "                                f1 = f1, recall=recall, cm = cm, first_entry=False)"
   ]
  },
  {
   "cell_type": "code",
   "execution_count": null,
   "id": "3bcd9b90-f8f0-4bb3-a1b8-220de09914f8",
   "metadata": {},
   "outputs": [],
   "source": []
  }
 ],
 "metadata": {
  "kernelspec": {
   "display_name": "conda_python3",
   "language": "python",
   "name": "conda_python3"
  },
  "language_info": {
   "codemirror_mode": {
    "name": "ipython",
    "version": 3
   },
   "file_extension": ".py",
   "mimetype": "text/x-python",
   "name": "python",
   "nbconvert_exporter": "python",
   "pygments_lexer": "ipython3",
   "version": "3.10.8"
  }
 },
 "nbformat": 4,
 "nbformat_minor": 5
}
